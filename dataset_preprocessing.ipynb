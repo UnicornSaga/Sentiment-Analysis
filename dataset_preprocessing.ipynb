{
 "metadata": {
  "kernelspec": {
   "language": "python",
   "display_name": "Python 3",
   "name": "python3"
  },
  "language_info": {
   "name": "python",
   "version": "3.7.12",
   "mimetype": "text/x-python",
   "codemirror_mode": {
    "name": "ipython",
    "version": 3
   },
   "pygments_lexer": "ipython3",
   "nbconvert_exporter": "python",
   "file_extension": ".py"
  }
 },
 "nbformat_minor": 4,
 "nbformat": 4,
 "cells": [
  {
   "cell_type": "code",
   "source": [
    "!pip install tensorflow-text==2.9.0\n",
    "!pip install py_vncorenlp\n",
    "!pip install tokenization\n",
    "!pip install vncorenlp\n",
    "!pip install fairseq\n",
    "!pip install demoji\n",
    "!pip install pyvi"
   ],
   "metadata": {
    "_uuid": "8f2839f25d086af736a60e9eeb907d3b93b6e0e5",
    "_cell_guid": "b1076dfc-b9ad-4769-8c92-a6c4dae69d19",
    "scrolled": true,
    "execution": {
     "iopub.status.busy": "2022-12-01T01:15:38.225215Z",
     "iopub.execute_input": "2022-12-01T01:15:38.226187Z",
     "iopub.status.idle": "2022-12-01T01:18:16.760567Z",
     "shell.execute_reply.started": "2022-12-01T01:15:38.226063Z",
     "shell.execute_reply": "2022-12-01T01:18:16.758842Z"
    },
    "trusted": true
   },
   "execution_count": 1,
   "outputs": [
    {
     "name": "stdout",
     "text": "Collecting tensorflow-text==2.9.0\n  Downloading tensorflow_text-2.9.0-cp37-cp37m-manylinux_2_17_x86_64.manylinux2014_x86_64.whl (4.6 MB)\n\u001B[2K     \u001B[90m━━━━━━━━━━━━━━━━━━━━━━━━━━━━━━━━━━━━━━━━\u001B[0m \u001B[32m4.6/4.6 MB\u001B[0m \u001B[31m10.7 MB/s\u001B[0m eta \u001B[36m0:00:00\u001B[0m00:01\u001B[0m00:01\u001B[0m\n\u001B[?25hRequirement already satisfied: tensorflow-hub>=0.8.0 in /opt/conda/lib/python3.7/site-packages (from tensorflow-text==2.9.0) (0.12.0)\nCollecting tensorflow<2.10,>=2.9.0\n  Downloading tensorflow-2.9.3-cp37-cp37m-manylinux_2_17_x86_64.manylinux2014_x86_64.whl (511.8 MB)\n\u001B[2K     \u001B[90m━━━━━━━━━━━━━━━━━━━━━━━━━━━━━━━━━━━━━━━\u001B[0m \u001B[32m511.8/511.8 MB\u001B[0m \u001B[31m2.1 MB/s\u001B[0m eta \u001B[36m0:00:00\u001B[0m00:01\u001B[0m00:01\u001B[0m\n\u001B[?25hCollecting libclang>=13.0.0\n  Downloading libclang-14.0.6-py2.py3-none-manylinux2010_x86_64.whl (14.1 MB)\n\u001B[2K     \u001B[90m━━━━━━━━━━━━━━━━━━━━━━━━━━━━━━━━━━━━━━━━\u001B[0m \u001B[32m14.1/14.1 MB\u001B[0m \u001B[31m36.1 MB/s\u001B[0m eta \u001B[36m0:00:00\u001B[0m00:01\u001B[0m00:01\u001B[0m\n\u001B[?25hRequirement already satisfied: google-pasta>=0.1.1 in /opt/conda/lib/python3.7/site-packages (from tensorflow<2.10,>=2.9.0->tensorflow-text==2.9.0) (0.2.0)\nRequirement already satisfied: numpy>=1.20 in /opt/conda/lib/python3.7/site-packages (from tensorflow<2.10,>=2.9.0->tensorflow-text==2.9.0) (1.21.6)\nRequirement already satisfied: grpcio<2.0,>=1.24.3 in /opt/conda/lib/python3.7/site-packages (from tensorflow<2.10,>=2.9.0->tensorflow-text==2.9.0) (1.43.0)\nRequirement already satisfied: typing-extensions>=3.6.6 in /opt/conda/lib/python3.7/site-packages (from tensorflow<2.10,>=2.9.0->tensorflow-text==2.9.0) (4.4.0)\nRequirement already satisfied: six>=1.12.0 in /opt/conda/lib/python3.7/site-packages (from tensorflow<2.10,>=2.9.0->tensorflow-text==2.9.0) (1.15.0)\nRequirement already satisfied: flatbuffers<2,>=1.12 in /opt/conda/lib/python3.7/site-packages (from tensorflow<2.10,>=2.9.0->tensorflow-text==2.9.0) (1.12)\nRequirement already satisfied: termcolor>=1.1.0 in /opt/conda/lib/python3.7/site-packages (from tensorflow<2.10,>=2.9.0->tensorflow-text==2.9.0) (1.1.0)\nRequirement already satisfied: astunparse>=1.6.0 in /opt/conda/lib/python3.7/site-packages (from tensorflow<2.10,>=2.9.0->tensorflow-text==2.9.0) (1.6.3)\nRequirement already satisfied: gast<=0.4.0,>=0.2.1 in /opt/conda/lib/python3.7/site-packages (from tensorflow<2.10,>=2.9.0->tensorflow-text==2.9.0) (0.4.0)\nRequirement already satisfied: opt-einsum>=2.3.2 in /opt/conda/lib/python3.7/site-packages (from tensorflow<2.10,>=2.9.0->tensorflow-text==2.9.0) (3.3.0)\nRequirement already satisfied: keras-preprocessing>=1.1.1 in /opt/conda/lib/python3.7/site-packages (from tensorflow<2.10,>=2.9.0->tensorflow-text==2.9.0) (1.1.2)\nCollecting absl-py>=1.0.0\n  Downloading absl_py-1.3.0-py3-none-any.whl (124 kB)\n\u001B[2K     \u001B[90m━━━━━━━━━━━━━━━━━━━━━━━━━━━━━━━━━━━━━━━\u001B[0m \u001B[32m124.6/124.6 kB\u001B[0m \u001B[31m9.1 MB/s\u001B[0m eta \u001B[36m0:00:00\u001B[0m\n\u001B[?25hRequirement already satisfied: protobuf<3.20,>=3.9.2 in /opt/conda/lib/python3.7/site-packages (from tensorflow<2.10,>=2.9.0->tensorflow-text==2.9.0) (3.19.4)\nRequirement already satisfied: h5py>=2.9.0 in /opt/conda/lib/python3.7/site-packages (from tensorflow<2.10,>=2.9.0->tensorflow-text==2.9.0) (3.7.0)\nCollecting keras<2.10.0,>=2.9.0rc0\n  Downloading keras-2.9.0-py2.py3-none-any.whl (1.6 MB)\n\u001B[2K     \u001B[90m━━━━━━━━━━━━━━━━━━━━━━━━━━━━━━━━━━━━━━━━\u001B[0m \u001B[32m1.6/1.6 MB\u001B[0m \u001B[31m42.4 MB/s\u001B[0m eta \u001B[36m0:00:00\u001B[0m00:01\u001B[0m\n\u001B[?25hCollecting tensorflow-estimator<2.10.0,>=2.9.0rc0\n  Downloading tensorflow_estimator-2.9.0-py2.py3-none-any.whl (438 kB)\n\u001B[2K     \u001B[90m━━━━━━━━━━━━━━━━━━━━━━━━━━━━━━━━━━━━━━\u001B[0m \u001B[32m438.7/438.7 kB\u001B[0m \u001B[31m27.7 MB/s\u001B[0m eta \u001B[36m0:00:00\u001B[0m\n\u001B[?25hRequirement already satisfied: packaging in /opt/conda/lib/python3.7/site-packages (from tensorflow<2.10,>=2.9.0->tensorflow-text==2.9.0) (21.3)\nRequirement already satisfied: wrapt>=1.11.0 in /opt/conda/lib/python3.7/site-packages (from tensorflow<2.10,>=2.9.0->tensorflow-text==2.9.0) (1.12.1)\nCollecting tensorflow-io-gcs-filesystem>=0.23.1\n  Downloading tensorflow_io_gcs_filesystem-0.28.0-cp37-cp37m-manylinux_2_12_x86_64.manylinux2010_x86_64.whl (2.4 MB)\n\u001B[2K     \u001B[90m━━━━━━━━━━━━━━━━━━━━━━━━━━━━━━━━━━━━━━━━\u001B[0m \u001B[32m2.4/2.4 MB\u001B[0m \u001B[31m64.3 MB/s\u001B[0m eta \u001B[36m0:00:00\u001B[0m:00:01\u001B[0m\n\u001B[?25hRequirement already satisfied: setuptools in /opt/conda/lib/python3.7/site-packages (from tensorflow<2.10,>=2.9.0->tensorflow-text==2.9.0) (59.8.0)\nCollecting tensorboard<2.10,>=2.9\n  Downloading tensorboard-2.9.1-py3-none-any.whl (5.8 MB)\n\u001B[2K     \u001B[90m━━━━━━━━━━━━━━━━━━━━━━━━━━━━━━━━━━━━━━━━\u001B[0m \u001B[32m5.8/5.8 MB\u001B[0m \u001B[31m38.8 MB/s\u001B[0m eta \u001B[36m0:00:00\u001B[0m00:01\u001B[0m00:01\u001B[0mm\n\u001B[?25hRequirement already satisfied: wheel<1.0,>=0.23.0 in /opt/conda/lib/python3.7/site-packages (from astunparse>=1.6.0->tensorflow<2.10,>=2.9.0->tensorflow-text==2.9.0) (0.37.1)\nRequirement already satisfied: requests<3,>=2.21.0 in /opt/conda/lib/python3.7/site-packages (from tensorboard<2.10,>=2.9->tensorflow<2.10,>=2.9.0->tensorflow-text==2.9.0) (2.28.1)\nRequirement already satisfied: google-auth<3,>=1.6.3 in /opt/conda/lib/python3.7/site-packages (from tensorboard<2.10,>=2.9->tensorflow<2.10,>=2.9.0->tensorflow-text==2.9.0) (1.35.0)\nRequirement already satisfied: markdown>=2.6.8 in /opt/conda/lib/python3.7/site-packages (from tensorboard<2.10,>=2.9->tensorflow<2.10,>=2.9.0->tensorflow-text==2.9.0) (3.3.7)\nRequirement already satisfied: google-auth-oauthlib<0.5,>=0.4.1 in /opt/conda/lib/python3.7/site-packages (from tensorboard<2.10,>=2.9->tensorflow<2.10,>=2.9.0->tensorflow-text==2.9.0) (0.4.6)\nRequirement already satisfied: tensorboard-data-server<0.7.0,>=0.6.0 in /opt/conda/lib/python3.7/site-packages (from tensorboard<2.10,>=2.9->tensorflow<2.10,>=2.9.0->tensorflow-text==2.9.0) (0.6.1)\nRequirement already satisfied: tensorboard-plugin-wit>=1.6.0 in /opt/conda/lib/python3.7/site-packages (from tensorboard<2.10,>=2.9->tensorflow<2.10,>=2.9.0->tensorflow-text==2.9.0) (1.8.1)\nRequirement already satisfied: werkzeug>=1.0.1 in /opt/conda/lib/python3.7/site-packages (from tensorboard<2.10,>=2.9->tensorflow<2.10,>=2.9.0->tensorflow-text==2.9.0) (2.2.2)\nRequirement already satisfied: pyparsing!=3.0.5,>=2.0.2 in /opt/conda/lib/python3.7/site-packages (from packaging->tensorflow<2.10,>=2.9.0->tensorflow-text==2.9.0) (3.0.9)\nRequirement already satisfied: rsa<5,>=3.1.4 in /opt/conda/lib/python3.7/site-packages (from google-auth<3,>=1.6.3->tensorboard<2.10,>=2.9->tensorflow<2.10,>=2.9.0->tensorflow-text==2.9.0) (4.8)\nRequirement already satisfied: pyasn1-modules>=0.2.1 in /opt/conda/lib/python3.7/site-packages (from google-auth<3,>=1.6.3->tensorboard<2.10,>=2.9->tensorflow<2.10,>=2.9.0->tensorflow-text==2.9.0) (0.2.7)\nRequirement already satisfied: cachetools<5.0,>=2.0.0 in /opt/conda/lib/python3.7/site-packages (from google-auth<3,>=1.6.3->tensorboard<2.10,>=2.9->tensorflow<2.10,>=2.9.0->tensorflow-text==2.9.0) (4.2.4)\nRequirement already satisfied: requests-oauthlib>=0.7.0 in /opt/conda/lib/python3.7/site-packages (from google-auth-oauthlib<0.5,>=0.4.1->tensorboard<2.10,>=2.9->tensorflow<2.10,>=2.9.0->tensorflow-text==2.9.0) (1.3.1)\nRequirement already satisfied: importlib-metadata>=4.4 in /opt/conda/lib/python3.7/site-packages (from markdown>=2.6.8->tensorboard<2.10,>=2.9->tensorflow<2.10,>=2.9.0->tensorflow-text==2.9.0) (4.13.0)\nRequirement already satisfied: certifi>=2017.4.17 in /opt/conda/lib/python3.7/site-packages (from requests<3,>=2.21.0->tensorboard<2.10,>=2.9->tensorflow<2.10,>=2.9.0->tensorflow-text==2.9.0) (2022.9.24)\nRequirement already satisfied: charset-normalizer<3,>=2 in /opt/conda/lib/python3.7/site-packages (from requests<3,>=2.21.0->tensorboard<2.10,>=2.9->tensorflow<2.10,>=2.9.0->tensorflow-text==2.9.0) (2.1.0)\nRequirement already satisfied: urllib3<1.27,>=1.21.1 in /opt/conda/lib/python3.7/site-packages (from requests<3,>=2.21.0->tensorboard<2.10,>=2.9->tensorflow<2.10,>=2.9.0->tensorflow-text==2.9.0) (1.26.12)\nRequirement already satisfied: idna<4,>=2.5 in /opt/conda/lib/python3.7/site-packages (from requests<3,>=2.21.0->tensorboard<2.10,>=2.9->tensorflow<2.10,>=2.9.0->tensorflow-text==2.9.0) (3.3)\nRequirement already satisfied: MarkupSafe>=2.1.1 in /opt/conda/lib/python3.7/site-packages (from werkzeug>=1.0.1->tensorboard<2.10,>=2.9->tensorflow<2.10,>=2.9.0->tensorflow-text==2.9.0) (2.1.1)\nRequirement already satisfied: zipp>=0.5 in /opt/conda/lib/python3.7/site-packages (from importlib-metadata>=4.4->markdown>=2.6.8->tensorboard<2.10,>=2.9->tensorflow<2.10,>=2.9.0->tensorflow-text==2.9.0) (3.8.0)\nRequirement already satisfied: pyasn1<0.5.0,>=0.4.6 in /opt/conda/lib/python3.7/site-packages (from pyasn1-modules>=0.2.1->google-auth<3,>=1.6.3->tensorboard<2.10,>=2.9->tensorflow<2.10,>=2.9.0->tensorflow-text==2.9.0) (0.4.8)\nRequirement already satisfied: oauthlib>=3.0.0 in /opt/conda/lib/python3.7/site-packages (from requests-oauthlib>=0.7.0->google-auth-oauthlib<0.5,>=0.4.1->tensorboard<2.10,>=2.9->tensorflow<2.10,>=2.9.0->tensorflow-text==2.9.0) (3.2.0)\nInstalling collected packages: libclang, keras, tensorflow-io-gcs-filesystem, tensorflow-estimator, absl-py, tensorboard, tensorflow, tensorflow-text\n  Attempting uninstall: keras\n    Found existing installation: keras 2.6.0\n    Uninstalling keras-2.6.0:\n      Successfully uninstalled keras-2.6.0\n  Attempting uninstall: tensorflow-estimator\n    Found existing installation: tensorflow-estimator 2.6.0\n    Uninstalling tensorflow-estimator-2.6.0:\n      Successfully uninstalled tensorflow-estimator-2.6.0\n  Attempting uninstall: absl-py\n    Found existing installation: absl-py 0.15.0\n    Uninstalling absl-py-0.15.0:\n      Successfully uninstalled absl-py-0.15.0\n  Attempting uninstall: tensorboard\n    Found existing installation: tensorboard 2.10.1\n    Uninstalling tensorboard-2.10.1:\n      Successfully uninstalled tensorboard-2.10.1\n  Attempting uninstall: tensorflow\n    Found existing installation: tensorflow 2.6.4\n    Uninstalling tensorflow-2.6.4:\n      Successfully uninstalled tensorflow-2.6.4\n\u001B[31mERROR: pip's dependency resolver does not currently take into account all the packages that are installed. This behaviour is the source of the following dependency conflicts.\ntfx-bsl 1.9.0 requires pyarrow<6,>=1, but you have pyarrow 8.0.0 which is incompatible.\ntensorflow-transform 1.9.0 requires pyarrow<6,>=1, but you have pyarrow 8.0.0 which is incompatible.\ntensorflow-io 0.21.0 requires tensorflow<2.7.0,>=2.6.0, but you have tensorflow 2.9.3 which is incompatible.\ntensorflow-io 0.21.0 requires tensorflow-io-gcs-filesystem==0.21.0, but you have tensorflow-io-gcs-filesystem 0.28.0 which is incompatible.\u001B[0m\u001B[31m\n\u001B[0mSuccessfully installed absl-py-1.3.0 keras-2.9.0 libclang-14.0.6 tensorboard-2.9.1 tensorflow-2.9.3 tensorflow-estimator-2.9.0 tensorflow-io-gcs-filesystem-0.28.0 tensorflow-text-2.9.0\n\u001B[33mWARNING: Running pip as the 'root' user can result in broken permissions and conflicting behaviour with the system package manager. It is recommended to use a virtual environment instead: https://pip.pypa.io/warnings/venv\u001B[0m\u001B[33m\n\u001B[0mCollecting py_vncorenlp\n  Downloading py_vncorenlp-0.1.3.tar.gz (3.9 kB)\n  Preparing metadata (setup.py) ... \u001B[?25ldone\n\u001B[?25hCollecting pyjnius\n  Downloading pyjnius-1.4.2-cp37-cp37m-manylinux_2_17_x86_64.manylinux2014_x86_64.whl (1.3 MB)\n\u001B[2K     \u001B[90m━━━━━━━━━━━━━━━━━━━━━━━━━━━━━━━━━━━━━━━━\u001B[0m \u001B[32m1.3/1.3 MB\u001B[0m \u001B[31m4.4 MB/s\u001B[0m eta \u001B[36m0:00:00\u001B[0m00:01\u001B[0m00:01\u001B[0m0m\n\u001B[?25hRequirement already satisfied: six>=1.7.0 in /opt/conda/lib/python3.7/site-packages (from pyjnius->py_vncorenlp) (1.15.0)\nBuilding wheels for collected packages: py_vncorenlp\n  Building wheel for py_vncorenlp (setup.py) ... \u001B[?25ldone\n\u001B[?25h  Created wheel for py_vncorenlp: filename=py_vncorenlp-0.1.3-py3-none-any.whl size=4309 sha256=bab1ae7c52b8e9c4ed6f0e857f451a8f6cc4274519a759e1378b492654856888\n  Stored in directory: /root/.cache/pip/wheels/87/be/55/d5930c1d90a09832e9afd57a9e13801e3d16c88f5a19f777ae\nSuccessfully built py_vncorenlp\nInstalling collected packages: pyjnius, py_vncorenlp\nSuccessfully installed py_vncorenlp-0.1.3 pyjnius-1.4.2\n\u001B[33mWARNING: Running pip as the 'root' user can result in broken permissions and conflicting behaviour with the system package manager. It is recommended to use a virtual environment instead: https://pip.pypa.io/warnings/venv\u001B[0m\u001B[33m\n\u001B[0mCollecting tokenization\n  Downloading tokenization-1.0.7-py3-none-any.whl (10 kB)\nRequirement already satisfied: regex in /opt/conda/lib/python3.7/site-packages (from tokenization) (2021.11.10)\nInstalling collected packages: tokenization\nSuccessfully installed tokenization-1.0.7\n\u001B[33mWARNING: Running pip as the 'root' user can result in broken permissions and conflicting behaviour with the system package manager. It is recommended to use a virtual environment instead: https://pip.pypa.io/warnings/venv\u001B[0m\u001B[33m\n\u001B[0mCollecting vncorenlp\n  Downloading vncorenlp-1.0.3.tar.gz (2.6 MB)\n\u001B[2K     \u001B[90m━━━━━━━━━━━━━━━━━━━━━━━━━━━━━━━━━━━━━━━━\u001B[0m \u001B[32m2.6/2.6 MB\u001B[0m \u001B[31m7.1 MB/s\u001B[0m eta \u001B[36m0:00:00\u001B[0m00:01\u001B[0m00:01\u001B[0m\n\u001B[?25h  Preparing metadata (setup.py) ... \u001B[?25ldone\n\u001B[?25hRequirement already satisfied: requests in /opt/conda/lib/python3.7/site-packages (from vncorenlp) (2.28.1)\nRequirement already satisfied: urllib3<1.27,>=1.21.1 in /opt/conda/lib/python3.7/site-packages (from requests->vncorenlp) (1.26.12)\nRequirement already satisfied: idna<4,>=2.5 in /opt/conda/lib/python3.7/site-packages (from requests->vncorenlp) (3.3)\nRequirement already satisfied: certifi>=2017.4.17 in /opt/conda/lib/python3.7/site-packages (from requests->vncorenlp) (2022.9.24)\nRequirement already satisfied: charset-normalizer<3,>=2 in /opt/conda/lib/python3.7/site-packages (from requests->vncorenlp) (2.1.0)\nBuilding wheels for collected packages: vncorenlp\n  Building wheel for vncorenlp (setup.py) ... \u001B[?25ldone\n\u001B[?25h  Created wheel for vncorenlp: filename=vncorenlp-1.0.3-py3-none-any.whl size=2645951 sha256=eb098de2261fc0df7278c7a917d043982bca08a09d1b06372ef0555b6fb7792e\n  Stored in directory: /root/.cache/pip/wheels/0c/d8/f2/d28d97379b4f6479bf51247c8dfd57fa00932fa7a74b6aab29\nSuccessfully built vncorenlp\nInstalling collected packages: vncorenlp\nSuccessfully installed vncorenlp-1.0.3\n\u001B[33mWARNING: Running pip as the 'root' user can result in broken permissions and conflicting behaviour with the system package manager. It is recommended to use a virtual environment instead: https://pip.pypa.io/warnings/venv\u001B[0m\u001B[33m\n\u001B[0mCollecting fairseq\n  Downloading fairseq-0.12.2-cp37-cp37m-manylinux_2_5_x86_64.manylinux1_x86_64.whl (11.0 MB)\n\u001B[2K     \u001B[90m━━━━━━━━━━━━━━━━━━━━━━━━━━━━━━━━━━━━━━━━\u001B[0m \u001B[32m11.0/11.0 MB\u001B[0m \u001B[31m29.4 MB/s\u001B[0m eta \u001B[36m0:00:00\u001B[0m00:01\u001B[0m0:01\u001B[0m\n\u001B[?25hCollecting sacrebleu>=1.4.12\n  Downloading sacrebleu-2.3.1-py3-none-any.whl (118 kB)\n\u001B[2K     \u001B[90m━━━━━━━━━━━━━━━━━━━━━━━━━━━━━━━━━━━━━━━\u001B[0m \u001B[32m118.9/118.9 kB\u001B[0m \u001B[31m9.6 MB/s\u001B[0m eta \u001B[36m0:00:00\u001B[0m\n\u001B[?25hRequirement already satisfied: cffi in /opt/conda/lib/python3.7/site-packages (from fairseq) (1.15.0)\nRequirement already satisfied: regex in /opt/conda/lib/python3.7/site-packages (from fairseq) (2021.11.10)\nCollecting hydra-core<1.1,>=1.0.7\n  Downloading hydra_core-1.0.7-py3-none-any.whl (123 kB)\n\u001B[2K     \u001B[90m━━━━━━━━━━━━━━━━━━━━━━━━━━━━━━━━━━━━━━━\u001B[0m \u001B[32m123.8/123.8 kB\u001B[0m \u001B[31m9.4 MB/s\u001B[0m eta \u001B[36m0:00:00\u001B[0m\n\u001B[?25hRequirement already satisfied: numpy in /opt/conda/lib/python3.7/site-packages (from fairseq) (1.21.6)\nRequirement already satisfied: torch in /opt/conda/lib/python3.7/site-packages (from fairseq) (1.11.0+cpu)\nRequirement already satisfied: tqdm in /opt/conda/lib/python3.7/site-packages (from fairseq) (4.64.0)\nRequirement already satisfied: cython in /opt/conda/lib/python3.7/site-packages (from fairseq) (0.29.32)\nCollecting bitarray\n  Downloading bitarray-2.6.0-cp37-cp37m-manylinux_2_17_x86_64.manylinux2014_x86_64.whl (235 kB)\n\u001B[2K     \u001B[90m━━━━━━━━━━━━━━━━━━━━━━━━━━━━━━━━━━━━━━\u001B[0m \u001B[32m235.4/235.4 kB\u001B[0m \u001B[31m17.8 MB/s\u001B[0m eta \u001B[36m0:00:00\u001B[0m\n\u001B[?25hRequirement already satisfied: torchaudio>=0.8.0 in /opt/conda/lib/python3.7/site-packages (from fairseq) (0.11.0+cpu)\nCollecting omegaconf<2.1\n  Downloading omegaconf-2.0.6-py3-none-any.whl (36 kB)\nCollecting antlr4-python3-runtime==4.8\n  Downloading antlr4-python3-runtime-4.8.tar.gz (112 kB)\n\u001B[2K     \u001B[90m━━━━━━━━━━━━━━━━━━━━━━━━━━━━━━━━━━━━━━\u001B[0m \u001B[32m112.4/112.4 kB\u001B[0m \u001B[31m10.1 MB/s\u001B[0m eta \u001B[36m0:00:00\u001B[0m\n\u001B[?25h  Preparing metadata (setup.py) ... \u001B[?25ldone\n\u001B[?25hRequirement already satisfied: importlib-resources in /opt/conda/lib/python3.7/site-packages (from hydra-core<1.1,>=1.0.7->fairseq) (5.8.0)\nRequirement already satisfied: PyYAML>=5.1.* in /opt/conda/lib/python3.7/site-packages (from omegaconf<2.1->fairseq) (6.0)\nRequirement already satisfied: typing-extensions in /opt/conda/lib/python3.7/site-packages (from omegaconf<2.1->fairseq) (4.4.0)\nRequirement already satisfied: lxml in /opt/conda/lib/python3.7/site-packages (from sacrebleu>=1.4.12->fairseq) (4.9.1)\nRequirement already satisfied: tabulate>=0.8.9 in /opt/conda/lib/python3.7/site-packages (from sacrebleu>=1.4.12->fairseq) (0.9.0)\nRequirement already satisfied: colorama in /opt/conda/lib/python3.7/site-packages (from sacrebleu>=1.4.12->fairseq) (0.4.5)\nRequirement already satisfied: portalocker in /opt/conda/lib/python3.7/site-packages (from sacrebleu>=1.4.12->fairseq) (2.6.0)\nRequirement already satisfied: pycparser in /opt/conda/lib/python3.7/site-packages (from cffi->fairseq) (2.21)\nRequirement already satisfied: zipp>=3.1.0 in /opt/conda/lib/python3.7/site-packages (from importlib-resources->hydra-core<1.1,>=1.0.7->fairseq) (3.8.0)\nBuilding wheels for collected packages: antlr4-python3-runtime\n  Building wheel for antlr4-python3-runtime (setup.py) ... \u001B[?25ldone\n\u001B[?25h  Created wheel for antlr4-python3-runtime: filename=antlr4_python3_runtime-4.8-py3-none-any.whl size=141230 sha256=6c54aa9740cd828e0113f518ae2a64b5bd1e117a962b48a98e8ac8c3f98d9edd\n  Stored in directory: /root/.cache/pip/wheels/ca/33/b7/336836125fc9bb4ceaa4376d8abca10ca8bc84ddc824baea6c\nSuccessfully built antlr4-python3-runtime\nInstalling collected packages: bitarray, antlr4-python3-runtime, sacrebleu, omegaconf, hydra-core, fairseq\nSuccessfully installed antlr4-python3-runtime-4.8 bitarray-2.6.0 fairseq-0.12.2 hydra-core-1.0.7 omegaconf-2.0.6 sacrebleu-2.3.1\n\u001B[33mWARNING: Running pip as the 'root' user can result in broken permissions and conflicting behaviour with the system package manager. It is recommended to use a virtual environment instead: https://pip.pypa.io/warnings/venv\u001B[0m\u001B[33m\n\u001B[0mCollecting demoji\n  Downloading demoji-1.1.0-py3-none-any.whl (42 kB)\n\u001B[2K     \u001B[90m━━━━━━━━━━━━━━━━━━━━━━━━━━━━━━━━━━━━━━━\u001B[0m \u001B[32m42.9/42.9 kB\u001B[0m \u001B[31m538.7 kB/s\u001B[0m eta \u001B[36m0:00:00\u001B[0m \u001B[36m0:00:01\u001B[0m\n\u001B[?25hInstalling collected packages: demoji\nSuccessfully installed demoji-1.1.0\n\u001B[33mWARNING: Running pip as the 'root' user can result in broken permissions and conflicting behaviour with the system package manager. It is recommended to use a virtual environment instead: https://pip.pypa.io/warnings/venv\u001B[0m\u001B[33m\n\u001B[0mCollecting pyvi\n  Downloading pyvi-0.1.1-py2.py3-none-any.whl (8.5 MB)\n\u001B[2K     \u001B[90m━━━━━━━━━━━━━━━━━━━━━━━━━━━━━━━━━━━━━━━━\u001B[0m \u001B[32m8.5/8.5 MB\u001B[0m \u001B[31m16.3 MB/s\u001B[0m eta \u001B[36m0:00:00\u001B[0m00:01\u001B[0m00:01\u001B[0m\n\u001B[?25hCollecting sklearn-crfsuite\n  Downloading sklearn_crfsuite-0.3.6-py2.py3-none-any.whl (12 kB)\nRequirement already satisfied: scikit-learn in /opt/conda/lib/python3.7/site-packages (from pyvi) (1.0.2)\nRequirement already satisfied: numpy>=1.14.6 in /opt/conda/lib/python3.7/site-packages (from scikit-learn->pyvi) (1.21.6)\nRequirement already satisfied: threadpoolctl>=2.0.0 in /opt/conda/lib/python3.7/site-packages (from scikit-learn->pyvi) (3.1.0)\nRequirement already satisfied: scipy>=1.1.0 in /opt/conda/lib/python3.7/site-packages (from scikit-learn->pyvi) (1.7.3)\nRequirement already satisfied: joblib>=0.11 in /opt/conda/lib/python3.7/site-packages (from scikit-learn->pyvi) (1.0.1)\nRequirement already satisfied: tqdm>=2.0 in /opt/conda/lib/python3.7/site-packages (from sklearn-crfsuite->pyvi) (4.64.0)\nRequirement already satisfied: six in /opt/conda/lib/python3.7/site-packages (from sklearn-crfsuite->pyvi) (1.15.0)\nCollecting python-crfsuite>=0.8.3\n  Downloading python_crfsuite-0.9.8-cp37-cp37m-manylinux_2_17_x86_64.manylinux2014_x86_64.whl (965 kB)\n\u001B[2K     \u001B[90m━━━━━━━━━━━━━━━━━━━━━━━━━━━━━━━━━━━━━━\u001B[0m \u001B[32m965.4/965.4 kB\u001B[0m \u001B[31m44.5 MB/s\u001B[0m eta \u001B[36m0:00:00\u001B[0m\n\u001B[?25hRequirement already satisfied: tabulate in /opt/conda/lib/python3.7/site-packages (from sklearn-crfsuite->pyvi) (0.9.0)\nInstalling collected packages: python-crfsuite, sklearn-crfsuite, pyvi\nSuccessfully installed python-crfsuite-0.9.8 pyvi-0.1.1 sklearn-crfsuite-0.3.6\n\u001B[33mWARNING: Running pip as the 'root' user can result in broken permissions and conflicting behaviour with the system package manager. It is recommended to use a virtual environment instead: https://pip.pypa.io/warnings/venv\u001B[0m\u001B[33m\n\u001B[0m",
     "output_type": "stream"
    }
   ]
  },
  {
   "cell_type": "code",
   "source": [
    "!mkdir -p vncorenlp/models/wordsegmenter\n",
    "!wget https://raw.githubusercontent.com/vncorenlp/VnCoreNLP/master/VnCoreNLP-1.1.1.jar\n",
    "!wget https://raw.githubusercontent.com/vncorenlp/VnCoreNLP/master/models/wordsegmenter/vi-vocab\n",
    "!wget https://raw.githubusercontent.com/vncorenlp/VnCoreNLP/master/models/wordsegmenter/wordsegmenter.rdr\n",
    "!mv VnCoreNLP-1.1.1.jar vncorenlp/ \n",
    "!mv vi-vocab vncorenlp/models/wordsegmenter/\n",
    "!mv wordsegmenter.rdr vncorenlp/models/wordsegmenter/"
   ],
   "metadata": {
    "scrolled": true,
    "execution": {
     "iopub.status.busy": "2022-12-01T01:18:16.763748Z",
     "iopub.execute_input": "2022-12-01T01:18:16.764172Z",
     "iopub.status.idle": "2022-12-01T01:18:26.502409Z",
     "shell.execute_reply.started": "2022-12-01T01:18:16.764132Z",
     "shell.execute_reply": "2022-12-01T01:18:26.500974Z"
    },
    "trusted": true
   },
   "execution_count": 2,
   "outputs": [
    {
     "name": "stdout",
     "text": "--2022-12-01 01:18:18--  https://raw.githubusercontent.com/vncorenlp/VnCoreNLP/master/VnCoreNLP-1.1.1.jar\nResolving raw.githubusercontent.com (raw.githubusercontent.com)... 185.199.108.133, 185.199.109.133, 185.199.110.133, ...\nConnecting to raw.githubusercontent.com (raw.githubusercontent.com)|185.199.108.133|:443... connected.\nHTTP request sent, awaiting response... 200 OK\nLength: 27412575 (26M) [application/octet-stream]\nSaving to: ‘VnCoreNLP-1.1.1.jar’\n\nVnCoreNLP-1.1.1.jar 100%[===================>]  26.14M  --.-KB/s    in 0.1s    \n\n2022-12-01 01:18:20 (185 MB/s) - ‘VnCoreNLP-1.1.1.jar’ saved [27412575/27412575]\n\n--2022-12-01 01:18:21--  https://raw.githubusercontent.com/vncorenlp/VnCoreNLP/master/models/wordsegmenter/vi-vocab\nResolving raw.githubusercontent.com (raw.githubusercontent.com)... 185.199.108.133, 185.199.110.133, 185.199.111.133, ...\nConnecting to raw.githubusercontent.com (raw.githubusercontent.com)|185.199.108.133|:443... connected.\nHTTP request sent, awaiting response... 200 OK\nLength: 526544 (514K) [application/octet-stream]\nSaving to: ‘vi-vocab’\n\nvi-vocab            100%[===================>] 514.20K  --.-KB/s    in 0.03s   \n\n2022-12-01 01:18:21 (16.5 MB/s) - ‘vi-vocab’ saved [526544/526544]\n\n--2022-12-01 01:18:22--  https://raw.githubusercontent.com/vncorenlp/VnCoreNLP/master/models/wordsegmenter/wordsegmenter.rdr\nResolving raw.githubusercontent.com (raw.githubusercontent.com)... 185.199.111.133, 185.199.110.133, 185.199.108.133, ...\nConnecting to raw.githubusercontent.com (raw.githubusercontent.com)|185.199.111.133|:443... connected.\nHTTP request sent, awaiting response... 200 OK\nLength: 128508 (125K) [text/plain]\nSaving to: ‘wordsegmenter.rdr’\n\nwordsegmenter.rdr   100%[===================>] 125.50K  --.-KB/s    in 0.02s   \n\n2022-12-01 01:18:23 (7.75 MB/s) - ‘wordsegmenter.rdr’ saved [128508/128508]\n\n",
     "output_type": "stream"
    }
   ]
  },
  {
   "cell_type": "code",
   "source": [
    "import regex\n",
    "import demoji\n",
    "from pyvi import ViPosTagger, ViTokenizer\n",
    "import string\n",
    "from sklearn.model_selection import train_test_split\n",
    "from sklearn.preprocessing import LabelEncoder\n",
    "from sklearn import metrics\n",
    "from tensorflow.keras import Model\n",
    "from tensorflow.keras.models import Sequential\n",
    "from tensorflow.keras.layers import LSTM, Activation, Dense, Dropout, Input, Embedding\n",
    "from tensorflow.keras.optimizers import RMSprop\n",
    "from tensorflow.keras.preprocessing import sequence\n",
    "from tensorflow.keras.utils import to_categorical\n",
    "from tensorflow.keras.callbacks import EarlyStopping, ModelCheckpoint\n",
    "from sklearn.metrics import classification_report, confusion_matrix"
   ],
   "metadata": {
    "execution": {
     "iopub.status.busy": "2022-12-01T01:18:26.504760Z",
     "iopub.execute_input": "2022-12-01T01:18:26.505543Z",
     "iopub.status.idle": "2022-12-01T01:18:31.423225Z",
     "shell.execute_reply.started": "2022-12-01T01:18:26.505491Z",
     "shell.execute_reply": "2022-12-01T01:18:31.421905Z"
    },
    "trusted": true
   },
   "execution_count": 3,
   "outputs": [
    {
     "name": "stderr",
     "text": "2022-12-01 01:18:27.436779: W tensorflow/stream_executor/platform/default/dso_loader.cc:64] Could not load dynamic library 'libcudart.so.11.0'; dlerror: libcudart.so.11.0: cannot open shared object file: No such file or directory; LD_LIBRARY_PATH: /usr/local/cuda/lib64:/usr/local/cuda/lib:/usr/local/lib/x86_64-linux-gnu:/usr/local/nvidia/lib:/usr/local/nvidia/lib64:\n2022-12-01 01:18:27.436850: I tensorflow/stream_executor/cuda/cudart_stub.cc:29] Ignore above cudart dlerror if you do not have a GPU set up on your machine.\n",
     "output_type": "stream"
    }
   ]
  },
  {
   "cell_type": "code",
   "source": [
    "from vncorenlp import VnCoreNLP\n",
    "\n",
    "# rdrsegmenter = VnCoreNLP(\"./vncorenlp/VnCoreNLP-1.1.1.jar\", annotators=\"wseg\", max_heap_size='-Xmx500m')"
   ],
   "metadata": {
    "execution": {
     "iopub.status.busy": "2022-12-01T01:18:31.426496Z",
     "iopub.execute_input": "2022-12-01T01:18:31.427715Z",
     "iopub.status.idle": "2022-12-01T01:18:31.436549Z",
     "shell.execute_reply.started": "2022-12-01T01:18:31.427671Z",
     "shell.execute_reply": "2022-12-01T01:18:31.434253Z"
    },
    "trusted": true
   },
   "execution_count": 4,
   "outputs": []
  },
  {
   "cell_type": "code",
   "source": [
    "# text = \"Ông Nguyễn Khắc Chúc  đang làm việc tại Đại học Quốc gia Hà Nội. Bà Lan, vợ ông Chúc, cũng làm việc tại đây.\"\n",
    "# output = rdrsegmenter.tokenize(text)\n",
    "# output = ' '.join([' '.join(x) for x in output])\n",
    "# print(output)"
   ],
   "metadata": {
    "execution": {
     "iopub.status.busy": "2022-12-01T01:18:31.438396Z",
     "iopub.execute_input": "2022-12-01T01:18:31.438957Z",
     "iopub.status.idle": "2022-12-01T01:18:31.460815Z",
     "shell.execute_reply.started": "2022-12-01T01:18:31.438915Z",
     "shell.execute_reply": "2022-12-01T01:18:31.459544Z"
    },
    "trusted": true
   },
   "execution_count": 5,
   "outputs": []
  },
  {
   "cell_type": "markdown",
   "source": [
    "# EDA"
   ],
   "metadata": {}
  },
  {
   "cell_type": "code",
   "source": [
    "import pandas as pd\n",
    "\n",
    "# df = pd.read_csv('Dataset/full_train.csv')\n",
    "df = pd.read_csv('/kaggle/input/int3405-sentiment-analysis-problem/full_train.csv')"
   ],
   "metadata": {
    "execution": {
     "iopub.status.busy": "2022-12-01T01:18:31.462177Z",
     "iopub.execute_input": "2022-12-01T01:18:31.462609Z",
     "iopub.status.idle": "2022-12-01T01:18:31.732670Z",
     "shell.execute_reply.started": "2022-12-01T01:18:31.462576Z",
     "shell.execute_reply": "2022-12-01T01:18:31.731664Z"
    },
    "trusted": true
   },
   "execution_count": 6,
   "outputs": []
  },
  {
   "cell_type": "code",
   "source": [
    "df"
   ],
   "metadata": {
    "execution": {
     "iopub.status.busy": "2022-12-01T01:18:44.670949Z",
     "iopub.execute_input": "2022-12-01T01:18:44.671386Z",
     "iopub.status.idle": "2022-12-01T01:18:44.694239Z",
     "shell.execute_reply.started": "2022-12-01T01:18:44.671349Z",
     "shell.execute_reply": "2022-12-01T01:18:44.693039Z"
    },
    "trusted": true
   },
   "execution_count": 12,
   "outputs": [
    {
     "execution_count": 12,
     "output_type": "execute_result",
     "data": {
      "text/plain": "     Unnamed: 0     RevId      UserId  \\\n0             0   3839333  10106093.0   \n1             1   2824877    786914.0   \n2             2   9816702  22467889.0   \n3             3   2684585   1889449.0   \n4             4   2737987   8839942.0   \n...         ...       ...         ...   \n9068       9066  11236510  23044142.0   \n9069       9067   1831645  10117823.0   \n9070       9068   2155495  11636069.0   \n9071       9069   7357032  12208284.0   \n9072       9070   2406407  13541782.0   \n\n                                                Comment  \\\n0     xôi dẻo, đồ ăn đậm vị. hộp xôi được lót lá trô...   \n1     gọi ship 1 xuất cari gà bánh naan và 3 miếng g...   \n2     thời tiết lạnh như này, cả nhà rủ nhau đến leg...   \n3     em có đọc review thấy mng bảo trà sữa nướng đề...   \n4     đồ ăn rất ngon, nhà hàng cũng rất đẹp, tất cả ...   \n...                                                 ...   \n9068  thực sự mà nói thấy mọi người đánh giá nhiều q...   \n9069  👉👉👉lẩu thái tômyum\\n👉👉đc: 19 lò đúc-hbt-hn\\n👉t...   \n9070  ngay từ lúc đầu tiên bước vào nhà hàng đã được...   \n9071  đặt ăn thử mà thấy ngón cá...! 🤩 sẽ còn ủn hộ ...   \n9072  nay xem bóng đá vn lười nấu cơm. nghe các bạn ...   \n\n                                             image_urls  Rating  \n0     ['https://images.foody.vn/res/g97/966781/s800/...     1.0  \n1     ['https://images.foody.vn/res/g69/688413/s800/...     0.0  \n2     ['https://images.foody.vn/res/g72/715078/s800/...     1.0  \n3     ['https://images.foody.vn/res/g90/895545/s800/...     0.0  \n4     ['https://images.foody.vn/res/g4/30186/s800/fo...     1.0  \n...                                                 ...     ...  \n9068  ['https://images.foody.vn/res/g94/930433/s800/...     1.0  \n9069  ['https://images.foody.vn/res/g16/150633/s800/...     1.0  \n9070  ['https://images.foody.vn/res/g74/736118/s800/...     1.0  \n9071  ['https://images.foody.vn/res/g104/1036659/s80...     1.0  \n9072  ['https://images.foody.vn/res/g75/745511/s800/...     1.0  \n\n[9071 rows x 6 columns]",
      "text/html": "<div>\n<style scoped>\n    .dataframe tbody tr th:only-of-type {\n        vertical-align: middle;\n    }\n\n    .dataframe tbody tr th {\n        vertical-align: top;\n    }\n\n    .dataframe thead th {\n        text-align: right;\n    }\n</style>\n<table border=\"1\" class=\"dataframe\">\n  <thead>\n    <tr style=\"text-align: right;\">\n      <th></th>\n      <th>Unnamed: 0</th>\n      <th>RevId</th>\n      <th>UserId</th>\n      <th>Comment</th>\n      <th>image_urls</th>\n      <th>Rating</th>\n    </tr>\n  </thead>\n  <tbody>\n    <tr>\n      <th>0</th>\n      <td>0</td>\n      <td>3839333</td>\n      <td>10106093.0</td>\n      <td>xôi dẻo, đồ ăn đậm vị. hộp xôi được lót lá trô...</td>\n      <td>['https://images.foody.vn/res/g97/966781/s800/...</td>\n      <td>1.0</td>\n    </tr>\n    <tr>\n      <th>1</th>\n      <td>1</td>\n      <td>2824877</td>\n      <td>786914.0</td>\n      <td>gọi ship 1 xuất cari gà bánh naan và 3 miếng g...</td>\n      <td>['https://images.foody.vn/res/g69/688413/s800/...</td>\n      <td>0.0</td>\n    </tr>\n    <tr>\n      <th>2</th>\n      <td>2</td>\n      <td>9816702</td>\n      <td>22467889.0</td>\n      <td>thời tiết lạnh như này, cả nhà rủ nhau đến leg...</td>\n      <td>['https://images.foody.vn/res/g72/715078/s800/...</td>\n      <td>1.0</td>\n    </tr>\n    <tr>\n      <th>3</th>\n      <td>3</td>\n      <td>2684585</td>\n      <td>1889449.0</td>\n      <td>em có đọc review thấy mng bảo trà sữa nướng đề...</td>\n      <td>['https://images.foody.vn/res/g90/895545/s800/...</td>\n      <td>0.0</td>\n    </tr>\n    <tr>\n      <th>4</th>\n      <td>4</td>\n      <td>2737987</td>\n      <td>8839942.0</td>\n      <td>đồ ăn rất ngon, nhà hàng cũng rất đẹp, tất cả ...</td>\n      <td>['https://images.foody.vn/res/g4/30186/s800/fo...</td>\n      <td>1.0</td>\n    </tr>\n    <tr>\n      <th>...</th>\n      <td>...</td>\n      <td>...</td>\n      <td>...</td>\n      <td>...</td>\n      <td>...</td>\n      <td>...</td>\n    </tr>\n    <tr>\n      <th>9068</th>\n      <td>9066</td>\n      <td>11236510</td>\n      <td>23044142.0</td>\n      <td>thực sự mà nói thấy mọi người đánh giá nhiều q...</td>\n      <td>['https://images.foody.vn/res/g94/930433/s800/...</td>\n      <td>1.0</td>\n    </tr>\n    <tr>\n      <th>9069</th>\n      <td>9067</td>\n      <td>1831645</td>\n      <td>10117823.0</td>\n      <td>👉👉👉lẩu thái tômyum\\n👉👉đc: 19 lò đúc-hbt-hn\\n👉t...</td>\n      <td>['https://images.foody.vn/res/g16/150633/s800/...</td>\n      <td>1.0</td>\n    </tr>\n    <tr>\n      <th>9070</th>\n      <td>9068</td>\n      <td>2155495</td>\n      <td>11636069.0</td>\n      <td>ngay từ lúc đầu tiên bước vào nhà hàng đã được...</td>\n      <td>['https://images.foody.vn/res/g74/736118/s800/...</td>\n      <td>1.0</td>\n    </tr>\n    <tr>\n      <th>9071</th>\n      <td>9069</td>\n      <td>7357032</td>\n      <td>12208284.0</td>\n      <td>đặt ăn thử mà thấy ngón cá...! 🤩 sẽ còn ủn hộ ...</td>\n      <td>['https://images.foody.vn/res/g104/1036659/s80...</td>\n      <td>1.0</td>\n    </tr>\n    <tr>\n      <th>9072</th>\n      <td>9070</td>\n      <td>2406407</td>\n      <td>13541782.0</td>\n      <td>nay xem bóng đá vn lười nấu cơm. nghe các bạn ...</td>\n      <td>['https://images.foody.vn/res/g75/745511/s800/...</td>\n      <td>1.0</td>\n    </tr>\n  </tbody>\n</table>\n<p>9071 rows × 6 columns</p>\n</div>"
     },
     "metadata": {}
    }
   ]
  },
  {
   "cell_type": "code",
   "source": [
    "# df.to_csv('data_foody_raw.csv', encoding = 'utf-8-sig')"
   ],
   "metadata": {
    "execution": {
     "iopub.status.busy": "2022-12-01T01:18:31.768662Z",
     "iopub.execute_input": "2022-12-01T01:18:31.769054Z",
     "iopub.status.idle": "2022-12-01T01:18:31.774780Z",
     "shell.execute_reply.started": "2022-12-01T01:18:31.769019Z",
     "shell.execute_reply": "2022-12-01T01:18:31.773516Z"
    },
    "trusted": true
   },
   "execution_count": 8,
   "outputs": []
  },
  {
   "cell_type": "code",
   "source": [
    "df['Comment'] = df['Comment'].str.lower()"
   ],
   "metadata": {
    "execution": {
     "iopub.status.busy": "2022-12-01T01:18:47.499050Z",
     "iopub.execute_input": "2022-12-01T01:18:47.499447Z",
     "iopub.status.idle": "2022-12-01T01:18:47.530376Z",
     "shell.execute_reply.started": "2022-12-01T01:18:47.499413Z",
     "shell.execute_reply": "2022-12-01T01:18:47.528764Z"
    },
    "trusted": true
   },
   "execution_count": 13,
   "outputs": [
    {
     "name": "stderr",
     "text": "/opt/conda/lib/python3.7/site-packages/ipykernel_launcher.py:1: SettingWithCopyWarning: \nA value is trying to be set on a copy of a slice from a DataFrame.\nTry using .loc[row_indexer,col_indexer] = value instead\n\nSee the caveats in the documentation: https://pandas.pydata.org/pandas-docs/stable/user_guide/indexing.html#returning-a-view-versus-a-copy\n  \"\"\"Entry point for launching an IPython kernel.\n",
     "output_type": "stream"
    }
   ]
  },
  {
   "cell_type": "code",
   "source": [
    "df = df[df['Comment'].notnull()]"
   ],
   "metadata": {
    "execution": {
     "iopub.status.busy": "2022-12-01T01:18:50.374867Z",
     "iopub.execute_input": "2022-12-01T01:18:50.375276Z",
     "iopub.status.idle": "2022-12-01T01:18:50.383627Z",
     "shell.execute_reply.started": "2022-12-01T01:18:50.375243Z",
     "shell.execute_reply": "2022-12-01T01:18:50.382830Z"
    },
    "trusted": true
   },
   "execution_count": 14,
   "outputs": []
  },
  {
   "cell_type": "code",
   "source": [
    "df[df['Comment'].str.contains('ngon tuyệt vời')]"
   ],
   "metadata": {
    "scrolled": true,
    "execution": {
     "iopub.status.busy": "2022-12-01T01:18:53.297765Z",
     "iopub.execute_input": "2022-12-01T01:18:53.298191Z",
     "iopub.status.idle": "2022-12-01T01:18:53.332843Z",
     "shell.execute_reply.started": "2022-12-01T01:18:53.298159Z",
     "shell.execute_reply": "2022-12-01T01:18:53.331843Z"
    },
    "trusted": true
   },
   "execution_count": 15,
   "outputs": [
    {
     "execution_count": 15,
     "output_type": "execute_result",
     "data": {
      "text/plain": "     Unnamed: 0     RevId      UserId  \\\n3403       3401   4206281  13333873.0   \n3478       3476  12698037  23605066.0   \n4392       4390   3339491   1354106.0   \n4586       4584   2032833   9308096.0   \n4871       4869    256085    180584.0   \n5062       5060   5129738  19264980.0   \n5285       5283   2130580   2021276.0   \n5901       5899   2639792  15203675.0   \n6448       6446   3948192   1365299.0   \n7464       7462    396775    818169.0   \n8151       8149   1485898   9012753.0   \n8156       8154   2382021  13294622.0   \n8216       8214   1805500   9790258.0   \n8308       8306   1177547   1820101.0   \n\n                                                Comment  \\\n3403  mì có 64 nghìn mà đầy ự luôn ạ!\\nngon tuyệt vờ...   \n3478  nộm bò kho ngon tuyệt vời , sợi dài , giòn , n...   \n4392  📍 về chất lượng: \\nriêng về chất lượng thì sum...   \n4586  quán chuyêm buffet lẩu với các mức giá 199k, 2...   \n4871  ra ăn lần đầu do được mời và được quảng cáo là...   \n5062  bánh thơm ngon tuyệt vời.độ ngọt vừa phải,màu ...   \n5285  hôm nọ mình và người yêu lặn lội lên tận phan ...   \n5901                  món ngon tuyệt vời, giá cà hợp lý   \n6448  mình ăn ở đây cũng được vài tháng. lúc đầu quá...   \n7464  chỗ này ăn mấy năm nay rồi mà không hiểu sao c...   \n8151  hôm nay ăn lần đầu tiên đi ăn ở quán, cũng do ...   \n8156  hôm nay được thử cốc trà sữa trân châu size l ...   \n8216  hôm nay đi ngang qua thấy quán này chưa vào lầ...   \n8308  bánh ngon tuyệt vời, đúng chuẩn vị nam định gi...   \n\n                                             image_urls  Rating  \n3403  ['https://images.foody.vn/res/g101/1003994/s80...     1.0  \n3478  ['https://images.foody.vn/res/g108/1073618/s80...     1.0  \n4392  ['https://images.foody.vn/res/g1/6921/s800/foo...     1.0  \n4586  ['https://images.foody.vn/res/g72/712575/s800/...     1.0  \n4871  ['https://images.foody.vn/res/g5/42464/s800/fo...     1.0  \n5062  ['https://images.foody.vn/res/g102/1015725/s80...     1.0  \n5285  ['https://images.foody.vn/res/g74/739263/s800/...     1.0  \n5901  ['https://images.foody.vn/res/g5/46542/s800/fo...     1.0  \n6448  ['https://images.foody.vn/res/g99/989770/s800/...     1.0  \n7464  ['https://images.foody.vn/res/g18/172897/s800/...     1.0  \n8151  ['https://images.foody.vn/res/g65/647072/s800/...     1.0  \n8156  ['https://images.foody.vn/res/g69/682758/s800/...     1.0  \n8216  ['https://images.foody.vn/res/g70/697937/s800/...     1.0  \n8308  ['https://images.foody.vn/res/g17/168812/s800/...     1.0  ",
      "text/html": "<div>\n<style scoped>\n    .dataframe tbody tr th:only-of-type {\n        vertical-align: middle;\n    }\n\n    .dataframe tbody tr th {\n        vertical-align: top;\n    }\n\n    .dataframe thead th {\n        text-align: right;\n    }\n</style>\n<table border=\"1\" class=\"dataframe\">\n  <thead>\n    <tr style=\"text-align: right;\">\n      <th></th>\n      <th>Unnamed: 0</th>\n      <th>RevId</th>\n      <th>UserId</th>\n      <th>Comment</th>\n      <th>image_urls</th>\n      <th>Rating</th>\n    </tr>\n  </thead>\n  <tbody>\n    <tr>\n      <th>3403</th>\n      <td>3401</td>\n      <td>4206281</td>\n      <td>13333873.0</td>\n      <td>mì có 64 nghìn mà đầy ự luôn ạ!\\nngon tuyệt vờ...</td>\n      <td>['https://images.foody.vn/res/g101/1003994/s80...</td>\n      <td>1.0</td>\n    </tr>\n    <tr>\n      <th>3478</th>\n      <td>3476</td>\n      <td>12698037</td>\n      <td>23605066.0</td>\n      <td>nộm bò kho ngon tuyệt vời , sợi dài , giòn , n...</td>\n      <td>['https://images.foody.vn/res/g108/1073618/s80...</td>\n      <td>1.0</td>\n    </tr>\n    <tr>\n      <th>4392</th>\n      <td>4390</td>\n      <td>3339491</td>\n      <td>1354106.0</td>\n      <td>📍 về chất lượng: \\nriêng về chất lượng thì sum...</td>\n      <td>['https://images.foody.vn/res/g1/6921/s800/foo...</td>\n      <td>1.0</td>\n    </tr>\n    <tr>\n      <th>4586</th>\n      <td>4584</td>\n      <td>2032833</td>\n      <td>9308096.0</td>\n      <td>quán chuyêm buffet lẩu với các mức giá 199k, 2...</td>\n      <td>['https://images.foody.vn/res/g72/712575/s800/...</td>\n      <td>1.0</td>\n    </tr>\n    <tr>\n      <th>4871</th>\n      <td>4869</td>\n      <td>256085</td>\n      <td>180584.0</td>\n      <td>ra ăn lần đầu do được mời và được quảng cáo là...</td>\n      <td>['https://images.foody.vn/res/g5/42464/s800/fo...</td>\n      <td>1.0</td>\n    </tr>\n    <tr>\n      <th>5062</th>\n      <td>5060</td>\n      <td>5129738</td>\n      <td>19264980.0</td>\n      <td>bánh thơm ngon tuyệt vời.độ ngọt vừa phải,màu ...</td>\n      <td>['https://images.foody.vn/res/g102/1015725/s80...</td>\n      <td>1.0</td>\n    </tr>\n    <tr>\n      <th>5285</th>\n      <td>5283</td>\n      <td>2130580</td>\n      <td>2021276.0</td>\n      <td>hôm nọ mình và người yêu lặn lội lên tận phan ...</td>\n      <td>['https://images.foody.vn/res/g74/739263/s800/...</td>\n      <td>1.0</td>\n    </tr>\n    <tr>\n      <th>5901</th>\n      <td>5899</td>\n      <td>2639792</td>\n      <td>15203675.0</td>\n      <td>món ngon tuyệt vời, giá cà hợp lý</td>\n      <td>['https://images.foody.vn/res/g5/46542/s800/fo...</td>\n      <td>1.0</td>\n    </tr>\n    <tr>\n      <th>6448</th>\n      <td>6446</td>\n      <td>3948192</td>\n      <td>1365299.0</td>\n      <td>mình ăn ở đây cũng được vài tháng. lúc đầu quá...</td>\n      <td>['https://images.foody.vn/res/g99/989770/s800/...</td>\n      <td>1.0</td>\n    </tr>\n    <tr>\n      <th>7464</th>\n      <td>7462</td>\n      <td>396775</td>\n      <td>818169.0</td>\n      <td>chỗ này ăn mấy năm nay rồi mà không hiểu sao c...</td>\n      <td>['https://images.foody.vn/res/g18/172897/s800/...</td>\n      <td>1.0</td>\n    </tr>\n    <tr>\n      <th>8151</th>\n      <td>8149</td>\n      <td>1485898</td>\n      <td>9012753.0</td>\n      <td>hôm nay ăn lần đầu tiên đi ăn ở quán, cũng do ...</td>\n      <td>['https://images.foody.vn/res/g65/647072/s800/...</td>\n      <td>1.0</td>\n    </tr>\n    <tr>\n      <th>8156</th>\n      <td>8154</td>\n      <td>2382021</td>\n      <td>13294622.0</td>\n      <td>hôm nay được thử cốc trà sữa trân châu size l ...</td>\n      <td>['https://images.foody.vn/res/g69/682758/s800/...</td>\n      <td>1.0</td>\n    </tr>\n    <tr>\n      <th>8216</th>\n      <td>8214</td>\n      <td>1805500</td>\n      <td>9790258.0</td>\n      <td>hôm nay đi ngang qua thấy quán này chưa vào lầ...</td>\n      <td>['https://images.foody.vn/res/g70/697937/s800/...</td>\n      <td>1.0</td>\n    </tr>\n    <tr>\n      <th>8308</th>\n      <td>8306</td>\n      <td>1177547</td>\n      <td>1820101.0</td>\n      <td>bánh ngon tuyệt vời, đúng chuẩn vị nam định gi...</td>\n      <td>['https://images.foody.vn/res/g17/168812/s800/...</td>\n      <td>1.0</td>\n    </tr>\n  </tbody>\n</table>\n</div>"
     },
     "metadata": {}
    }
   ]
  },
  {
   "cell_type": "code",
   "source": [
    "# ngon tuyet vời 100% tích cực"
   ],
   "metadata": {
    "execution": {
     "iopub.status.busy": "2022-11-30T16:11:26.804700Z",
     "iopub.execute_input": "2022-11-30T16:11:26.805178Z",
     "iopub.status.idle": "2022-11-30T16:11:26.810471Z",
     "shell.execute_reply.started": "2022-11-30T16:11:26.805136Z",
     "shell.execute_reply": "2022-11-30T16:11:26.809387Z"
    },
    "trusted": true
   },
   "execution_count": 12,
   "outputs": []
  },
  {
   "cell_type": "code",
   "source": [
    "# df[(df['Comment'].str.contains('sẽ quay lại')) & (df['Rating'] < 6.0)]['Comment'].to_list()[4]"
   ],
   "metadata": {
    "execution": {
     "iopub.status.busy": "2022-11-30T16:11:26.950545Z",
     "iopub.execute_input": "2022-11-30T16:11:26.951001Z",
     "iopub.status.idle": "2022-11-30T16:11:26.957069Z",
     "shell.execute_reply.started": "2022-11-30T16:11:26.950955Z",
     "shell.execute_reply": "2022-11-30T16:11:26.955608Z"
    },
    "trusted": true
   },
   "execution_count": 17,
   "outputs": []
  },
  {
   "cell_type": "code",
   "source": [
    "from sklearn.feature_extraction.text import CountVectorizer\n",
    "\n",
    "corpus = df[\"Comment\"].to_list()\n",
    "vectorizer = CountVectorizer(analyzer='word', ngram_range=(2, 2))\n",
    "X = vectorizer.fit_transform(corpus)"
   ],
   "metadata": {
    "execution": {
     "iopub.status.busy": "2022-11-30T16:11:26.958828Z",
     "iopub.execute_input": "2022-11-30T16:11:26.959271Z",
     "iopub.status.idle": "2022-11-30T16:11:29.109738Z",
     "shell.execute_reply.started": "2022-11-30T16:11:26.959230Z",
     "shell.execute_reply": "2022-11-30T16:11:29.108853Z"
    },
    "trusted": true
   },
   "execution_count": 18,
   "outputs": []
  },
  {
   "cell_type": "code",
   "source": [
    "vectorizer.get_feature_names_out()[207000:]"
   ],
   "metadata": {
    "scrolled": true,
    "execution": {
     "iopub.status.busy": "2022-11-30T16:11:29.111275Z",
     "iopub.execute_input": "2022-11-30T16:11:29.111874Z",
     "iopub.status.idle": "2022-11-30T16:11:29.370427Z",
     "shell.execute_reply.started": "2022-11-30T16:11:29.111829Z",
     "shell.execute_reply": "2022-11-30T16:11:29.369294Z"
    },
    "trusted": true
   },
   "execution_count": 19,
   "outputs": [
    {
     "execution_count": 19,
     "output_type": "execute_result",
     "data": {
      "text/plain": "array(['ổn cái', 'ổn còn', 'ổn có', 'ổn cút', 'ổn cũng', 'ổn cơ',\n       'ổn cơm', 'ổn cả', 'ổn cảm', 'ổn cắn', 'ổn cốc', 'ổn củ', 'ổn dao',\n       'ổn decor', 'ổn dù', 'ổn dễ', 'ổn dịch', 'ổn em', 'ổn gia',\n       'ổn giao', 'ổn gimbab', 'ổn giá', 'ổn giống', 'ổn giữ', 'ổn gà',\n       'ổn gía', 'ổn gọi', 'ổn hai', 'ổn hi', 'ổn highly', 'ổn hình',\n       'ổn hôm', 'ổn hơi', 'ổn hơn', 'ổn hương', 'ổn hết', 'ổn hộp',\n       'ổn hợp', 'ổn kem', 'ổn khi', 'ổn khoai', 'ổn khoảng', 'ổn khu',\n       'ổn khá', 'ổn không', 'ổn khẩu', 'ổn kimbab', 'ổn ko', 'ổn kín',\n       'ổn lun', 'ổn luôn', 'ổn luônnnn', 'ổn là', 'ổn làm', 'ổn lá',\n       'ổn lên', 'ổn lúc', 'ổn lại', 'ổn lấy', 'ổn lần', 'ổn lẩu',\n       'ổn lắm', 'ổn lớp', 'ổn lựa', 'ổn mai', 'ổn matcha', 'ổn may',\n       'ổn menu', 'ổn miếng', 'ổn mn', 'ổn mua', 'ổn mà', 'ổn màu',\n       'ổn mì', 'ổn mình', 'ổn món', 'ổn mùa', 'ổn mấy', 'ổn mặc',\n       'ổn mềm', 'ổn mọc', 'ổn mọi', 'ổn mỗi', 'ổn một', 'ổn mới',\n       'ổn mở', 'ổn mức', 'ổn mỳ', 'ổn nchung', 'ổn ncl', 'ổn ne',\n       'ổn nem', 'ổn ngang', 'ổn ngao', 'ổn ngon', 'ổn ngoài', 'ổn ngoại',\n       'ổn ngày', 'ổn ngồi', 'ổn nha', 'ổn nhanh', 'ổn nhg', 'ổn nhiều',\n       'ổn nhà', 'ổn nhá', 'ổn nhân', 'ổn nhé', 'ổn nhìn', 'ổn nhìu',\n       'ổn nhúng', 'ổn như', 'ổn nhưng', 'ổn nhưngx', 'ổn nhất', 'ổn no',\n       'ổn nè', 'ổn nêm', 'ổn nên', 'ổn nó', 'ổn nói', 'ổn nóng',\n       'ổn nước', 'ổn nướng', 'ổn nấm', 'ổn nằm', 'ổn nếu', 'ổn nốt',\n       'ổn nữa', 'ổn order', 'ổn pad', 'ổn phù', 'ổn phải', 'ổn phần',\n       'ổn phết', 'ổn phở', 'ổn phục', 'ổn quan', 'ổn quá', 'ổn quán',\n       'ổn quên', 'ổn quạt', 'ổn rau', 'ổn recommend', 'ổn riêng',\n       'ổn rùi', 'ổn rất', 'ổn rẻ', 'ổn rồi', 'ổn rộng', 'ổn salad',\n       'ổn sao', 'ổn ship', 'ổn sinh', 'ổn so', 'ổn sushi', 'ổn suất',\n       'ổn suốt', 'ổn sườn', 'ổn sạch', 'ổn sẽ', 'ổn số', 'ổn sốt',\n       'ổn sợi', 'ổn sữa', 'ổn tempura', 'ổn theo', 'ổn thoả', 'ổn thái',\n       'ổn thân', 'ổn thì', 'ổn thích', 'ổn thôi', 'ổn thơm', 'ổn thạch',\n       'ổn thấy', 'ổn thậm', 'ổn thịt', 'ổn thỏa', 'ổn thực',\n       'ổn topping', 'ổn trang', 'ổn trong', 'ổn trà', 'ổn trân',\n       'ổn trên', 'ổn trình', 'ổn trước', 'ổn trứng', 'ổn trừ', 'ổn tuy',\n       'ổn tí', 'ổn tính', 'ổn tôi', 'ổn tôm', 'ổn tùy', 'ổn túm',\n       'ổn tươi', 'ổn tầm', 'ổn tầng', 'ổn tốt', 'ổn view', 'ổn và',\n       'ổn vào', 'ổn vì', 'ổn vô', 'ổn vẫn', 'ổn vậy', 'ổn về', 'ổn vị',\n       'ổn vỏ', 'ổn với', 'ổn vừa', 'ổn wifi', 'ổn xin', 'ổn xiên',\n       'ổn xôi', 'ổn yêu', 'ổn áp', 'ổn ăn', 'ổn đinh', 'ổn điềm',\n       'ổn điều', 'ổn điểm', 'ổn đáng', 'ổn đâu', 'ổn đây', 'ổn đã',\n       'ổn đó', 'ổn đóng', 'ổn đúng', 'ổn đĩa', 'ổn được', 'ổn đấy',\n       'ổn đầu', 'ổn đậm', 'ổn đậu', 'ổn đặc', 'ổn đặt', 'ổn để',\n       'ổn định', 'ổn đồ', 'ổn độ', 'ổn đợi', 'ổn đủ', 'ổn ưng', 'ổn ướp',\n       'ổn ốc', 'ổn ổn', 'ổng bê', 'ổng bảo', 'ổng cũng', 'ổng lắm',\n       'ổng mê', 'ổnnn còn', 'ộc lên', 'ới cô', 'ới là', 'ới một',\n       'ớn chưa', 'ớn chắc', 'ớn có', 'ớn cơ', 'ớn lắm', 'ớn nước',\n       'ớn phần', 'ớt 100k', 'ớt 70k', 'ớt bung', 'ớt bê', 'ớt bên',\n       'ớt bạn', 'ớt bị', 'ớt bột', 'ớt can', 'ớt cay', 'ớt chanh',\n       'ớt chin', 'ớt cho', 'ớt chuông', 'ớt cháo', 'ớt chân', 'ớt chè',\n       'ớt chưng', 'ớt chấm', 'ớt cug', 'ớt các', 'ớt cánh', 'ớt còn',\n       'ớt có', 'ớt cùng', 'ớt cũng', 'ớt cơ', 'ớt cơm', 'ớt cả',\n       'ớt cần', 'ớt cắt', 'ớt cộng', 'ớt của', 'ớt cứu', 'ớt cực',\n       'ớt dưa', 'ớt dạng', 'ớt dịch', 'ớt giá', 'ớt gà', 'ớt gói',\n       'ớt gần', 'ớt hay', 'ớt hiểm', 'ớt hy', 'ớt hàn', 'ớt hình',\n       'ớt hơi', 'ớt hội', 'ớt hột', 'ớt hợp', 'ớt khi', 'ớt khoai',\n       'ớt khá', 'ớt khô', 'ớt không', 'ớt ko', 'ớt kèm', 'ớt loãng',\n       'ớt là', 'ớt lá', 'ớt lên', 'ớt lại', 'ớt lần', 'ớt lẩu', 'ớt lắm',\n       'ớt maiyone', 'ớt mantu', 'ớt may', 'ớt mong', 'ớt mà', 'ớt mình',\n       'ớt món', 'ớt mường', 'ớt mặc', 'ớt mọc', 'ớt mỗi', 'ớt một',\n       'ớt mực', 'ớt nc', 'ớt ngon', 'ớt ngoảnh', 'ớt ngọt', 'ớt nhưng',\n       'ớt ném', 'ớt nên', 'ớt nó', 'ớt nước', 'ớt nữa', 'ớt or',\n       'ớt pha', 'ớt plus', 'ớt quá', 'ớt quán', 'ớt quên', 'ớt quất',\n       'ớt riêng', 'ớt rất', 'ớt rồi', 'ớt song', 'ớt sạch', 'ớt sần',\n       'ớt sắc', 'ớt sẽ', 'ớt sốt', 'ớt sợi', 'ớt thì', 'ớt thôi',\n       'ớt thơm', 'ớt thế', 'ớt thịt', 'ớt thời', 'ớt trong', 'ớt trên',\n       'ớt trưng', 'ớt túi', 'ớt tươi', 'ớt tương', 'ớt tạm', 'ớt tỏi',\n       'ớt tới', 'ớt tự', 'ớt vs', 'ớt và', 'ớt vào', 'ớt vì', 'ớt vẫn',\n       'ớt vị', 'ớt với', 'ớt xanh', 'ớt xay', 'ớt xinh', 'ớt xào',\n       'ớt xì', 'ớt ăn', 'ớt đc', 'ớt đi', 'ớt đây', 'ớt đóng', 'ớt đúng',\n       'ớt đậm', 'ớt đặc', 'ớt đến', 'ớt đều', 'ớt để', 'ớt đỏ', 'ớt đồ',\n       'ớt đựng', 'ớt ốc', 'ởn biết', 'ởn chứ', 'ởn kinh', 'ởn lác',\n       'ởn lên', 'ởn toàn', 'ục và', 'ụp một', 'ủa em', 'ủa mà',\n       'ủa mình', 'ủa thế', 'ủa tóm', 'ủa vậy', 'ủg hộ', 'ủi cũng',\n       'ủi dã', 'ủi là', 'ủi phần', 'ủi ăn', 'ủn hộ', 'ủn mông',\n       'ủng còn', 'ủng ghê', 'ủng hay', 'ủng hooj', 'ủng hôn', 'ủng họ',\n       'ủng hộ', 'ủng không', 'ủng rau', 'ủng sao', 'ủng ăn', 'ủng ủng',\n       'ủy hà', 'ủy đối', 'ức bảo', 'ức chế', 'ức chứ', 'ức của', 'ức gà',\n       'ức hà', 'ức không', 'ức nạc', 'ức quán', 'ức trắng', 'ức được',\n       'ức để', 'ứng bằng', 'ứng chắc', 'ứng chỉ', 'ứng cua', 'ứng có',\n       'ứng cả', 'ứng của', 'ứng dụng', 'ứng gay', 'ứng giá', 'ứng hoàn',\n       'ứng hàn', 'ứng hải', 'ứng hết', 'ứng làm', 'ứng mì', 'ứng mọi',\n       'ứng nghệ', 'ứng nhiệt', 'ứng nhu', 'ứng nhất', 'ứng nữa',\n       'ứng rất', 'ứng siêu', 'ứng suất', 'ứng số', 'ứng thì', 'ứng tùy',\n       'ứng tốt', 'ứng từ', 'ứng vô', 'ứng về', 'ứng với', 'ứng xử',\n       'ứng ông', 'ứng được', 'ứng đủ', 'ừm còn', 'ừm matcha', 'ừng ực',\n       'ửng hộ', 'ửng như', 'ựa ngon', 'ực gọi', 'ực quán', 'ực tô',\n       'ực ực', 'うどん スープ', 'とコチラに 前回品切れしていた豚の角煮が食べれて嬉しい',\n       'のような盛り付けも素敵 揚げネギがたっぷりのったスティッキーライスとセットになっていてご飯と一緒に食べるとまた美味しい',\n       'はまま コスパよかった', 'ガイドブックを見て気になっていたレトロな雰囲気の蟹鍋屋さん 3店舗あるうちの',\n       'コスパよかった 次回はアメリカ牛肉のすき焼きを食べてみよう',\n       'コチラの本店をえらびました 食べたかったティンリーの炒め物も食べれて嬉しい', 'スタッフもみんな親切で 心地よい空間でした',\n       'スープ はまま', 'チキンに添えてあるココナッツ風味の揚げたbanh baoも大好き',\n       'テーブルセッティングされた食器がとても可愛いかったです スタッフもみんな親切で', 'ノд thích',\n       'ハノイ最終日の夜なので綺麗で美味しいレストランで とコチラに',\n       'ハーフサイズでこのボリュームです 写真に写ってませんが鍋にはたっぷりのブンも付きます',\n       'パスターブリューイングのクラフトビールで乾杯して その後はボトルの白ワインをオーダーしました',\n       'パラパラの玉子チャーハンに海老の濃厚なスープをかけて食べるスタイルです 玉子チャーハンは味が薄く',\n       'ピリ辛でレモングラスが効いていたのでトムヤムクンを優しくしたような味でした パスターブリューイングのクラフトビールで乾杯して',\n       'ㅋㅋㅋ anw', '今回の旅行で鍋を食べてなかったので 海鮮鍋もオーダーしました',\n       '価格もローカルフードにしては高めの価格でした 近くにハノイ鉄道の線路があるので',\n       '写真に写ってませんが鍋にはたっぷりのブンも付きます ピリ辛でレモングラスが効いていたのでトムヤムクンを優しくしたような味でした',\n       '前回も頼んだチキンのグリルと茄子のグリルも安定の美味しさ 茄子の味付けが以前より少し甘味が強く感じました',\n       '前回品切れしていた豚の角煮が食べれて嬉しい のような盛り付けも素敵', '叉燒 and', '友達と二人で265000 注意',\n       '地酒も美味しい テーブルセッティングされた食器がとても可愛いかったです',\n       '定価は35000vndでも 友達と二人で265000',\n       '揚げネギがたっぷりのったスティッキーライスとセットになっていてご飯と一緒に食べるとまた美味しい 前回も頼んだチキンのグリルと茄子のグリルも安定の美味しさ',\n       '注意 騙す', '海老の味が濃く 贅沢な味わい', '海鮮鍋もオーダーしました ハーフサイズでこのボリュームです',\n       '深夜営業が許されているtong duy', '炒めた海老のタレをかけて完成する味付けです 海老の味が濃く',\n       '牛肉の肉うどん 肉の量がとにかく多かった', '玉子チャーハンは味が薄く 炒めた海老のタレをかけて完成する味付けです',\n       '絶品海老チャーハンのお店と有名なローカルレストラン 深夜営業が許されているtong',\n       '美味しいじゃなくてもとても高いです 定価は35000vndでも', '肉の量がとにかく多かった うどん',\n       '茄子の味付けが以前より少し甘味が強く感じました チキンに添えてあるココナッツ風味の揚げたbanh',\n       '蟹の素揚げはインスタ映え 鳥肉の唐揚げはレモングラスの風味がとても美味しい',\n       '贅沢な味わい 価格もローカルフードにしては高めの価格でした',\n       '近くにハノイ鉄道の線路があるので 合わせて行かれるのをオススメします', '酒飲みのアテにピーナッツ 蟹の素揚げはインスタ映え',\n       '鍋はスタッフさんが一人前すつ取り分けてくれます bunrieucuaの様な味わいです',\n       '食べたかったティンリーの炒め物も食べれて嬉しい 酒飲みのアテにピーナッツ', '香港牛腩面秘 had',\n       '鳥肉の唐揚げはレモングラスの風味がとても美味しい 鍋はスタッフさんが一人前すつ取り分けてくれます', 'ꈍᴗꈍ mỗi',\n       '일요일 đây', '콩카페 cộng', '𝑩𝒂 𝑻𝒓𝒊𝒆', '𝑪𝒉𝒂 𝒈𝒂', '𝑻𝒓𝒊𝒆 đi', '𝒈𝒂 𝒏𝒖',\n       '𝒏𝒈 𝑩𝒂', '𝒏𝒖 𝒏𝒈', '𝘾𝙤𝙛𝙛𝙚𝙚 cafe', '𝙍𝙤𝙤𝙛𝙩𝙤𝙥 𝘾𝙤𝙛𝙛𝙚𝙚', '𝙎𝙖𝙢 𝙍𝙤𝙤𝙛𝙩𝙤𝙥'],\n      dtype=object)"
     },
     "metadata": {}
    }
   ]
  },
  {
   "cell_type": "code",
   "source": [
    "detect_when_error_ana = ['13806594', '3756775', '2518027', '2470603', '2407997', '2656592', '3398288', '2578752', \n",
    "'2567874']"
   ],
   "metadata": {
    "execution": {
     "iopub.status.busy": "2022-12-01T01:19:10.651881Z",
     "iopub.execute_input": "2022-12-01T01:19:10.652332Z",
     "iopub.status.idle": "2022-12-01T01:19:10.657669Z",
     "shell.execute_reply.started": "2022-12-01T01:19:10.652293Z",
     "shell.execute_reply": "2022-12-01T01:19:10.656583Z"
    },
    "trusted": true
   },
   "execution_count": 16,
   "outputs": []
  },
  {
   "cell_type": "code",
   "source": [
    "len(detect_when_error_ana)"
   ],
   "metadata": {
    "execution": {
     "iopub.status.busy": "2022-12-01T01:19:11.483119Z",
     "iopub.execute_input": "2022-12-01T01:19:11.483498Z",
     "iopub.status.idle": "2022-12-01T01:19:11.491146Z",
     "shell.execute_reply.started": "2022-12-01T01:19:11.483468Z",
     "shell.execute_reply": "2022-12-01T01:19:11.489741Z"
    },
    "trusted": true
   },
   "execution_count": 17,
   "outputs": [
    {
     "execution_count": 17,
     "output_type": "execute_result",
     "data": {
      "text/plain": "9"
     },
     "metadata": {}
    }
   ]
  },
  {
   "cell_type": "code",
   "source": [
    "df['RevId'] = df['RevId'].astype('str')"
   ],
   "metadata": {
    "execution": {
     "iopub.status.busy": "2022-12-01T01:19:14.268807Z",
     "iopub.execute_input": "2022-12-01T01:19:14.270047Z",
     "iopub.status.idle": "2022-12-01T01:19:14.277006Z",
     "shell.execute_reply.started": "2022-12-01T01:19:14.269995Z",
     "shell.execute_reply": "2022-12-01T01:19:14.276069Z"
    },
    "trusted": true
   },
   "execution_count": 18,
   "outputs": []
  },
  {
   "cell_type": "code",
   "source": [
    "# df = df[~ df['RevId'].isin(detect_when_error_ana)]\n",
    "list_rev_id = df['RevId'].to_list()\n",
    "list_rating = df['Rating'].to_list()\n",
    "for i in range(len(list_rev_id)):\n",
    "    if list_rev_id[i] in detect_when_error_ana:\n",
    "        if list_rating[i] == 1:\n",
    "            list_rating[i] = 0\n",
    "        else:\n",
    "            list_rating[i] = 1\n",
    "            \n",
    "df['Rating'] = list_rating"
   ],
   "metadata": {
    "execution": {
     "iopub.status.busy": "2022-12-01T01:19:17.225025Z",
     "iopub.execute_input": "2022-12-01T01:19:17.225462Z",
     "iopub.status.idle": "2022-12-01T01:19:17.238697Z",
     "shell.execute_reply.started": "2022-12-01T01:19:17.225424Z",
     "shell.execute_reply": "2022-12-01T01:19:17.237656Z"
    },
    "trusted": true
   },
   "execution_count": 19,
   "outputs": []
  },
  {
   "cell_type": "code",
   "source": [
    "df['Rating'].value_counts()"
   ],
   "metadata": {
    "execution": {
     "iopub.status.busy": "2022-12-01T01:19:19.089860Z",
     "iopub.execute_input": "2022-12-01T01:19:19.090285Z",
     "iopub.status.idle": "2022-12-01T01:19:19.107051Z",
     "shell.execute_reply.started": "2022-12-01T01:19:19.090251Z",
     "shell.execute_reply": "2022-12-01T01:19:19.105606Z"
    },
    "trusted": true
   },
   "execution_count": 20,
   "outputs": [
    {
     "execution_count": 20,
     "output_type": "execute_result",
     "data": {
      "text/plain": "1.0    7151\n0.0    1919\nName: Rating, dtype: int64"
     },
     "metadata": {}
    }
   ]
  },
  {
   "cell_type": "markdown",
   "source": [
    "# Preprocessing"
   ],
   "metadata": {}
  },
  {
   "cell_type": "code",
   "source": [
    "df['Comment'] = df['Comment'].str.lower()"
   ],
   "metadata": {
    "execution": {
     "iopub.status.busy": "2022-12-01T01:19:20.926742Z",
     "iopub.execute_input": "2022-12-01T01:19:20.927328Z",
     "iopub.status.idle": "2022-12-01T01:19:20.973482Z",
     "shell.execute_reply.started": "2022-12-01T01:19:20.927278Z",
     "shell.execute_reply": "2022-12-01T01:19:20.972154Z"
    },
    "trusted": true
   },
   "execution_count": 21,
   "outputs": []
  },
  {
   "cell_type": "code",
   "source": [
    "emo = {\"👉\":\" \",\"🤩\":\" rất mê \",\"👍🏻\":\" thích \", \"👍\":\" thích \",\n",
    "       '😄': \" cười \", '😀':' cười ','😁':\" thích \",\"😍\":\" yêu quá \",\n",
    "       \"😓\":\" chán \",\"😒\":\" khó ưa \",\"❤️\":\" yêu \",\"💔\":\" tổn thương \",\n",
    "       \"😆\":\" thích thú \",\"😘\":\" yêu thích \", \"💋\":\" hôn \",\"🥳\":\" mừng rỡ \", \n",
    "       \"☺️\": \" \", \"😭\": \" khóc ròng \",\"😞\":\" buồn thiu \",\"😅\":\" cười toát mồ hôi \",\n",
    "       \"😌\":\" bí ẩn \",\"😂\":\" cười lăn lộn \",\"🤣\":\" cười lăn lộn \",\"🙄\":\" khó hiểu \", \n",
    "       \"😑\": \" chán \", \"😋\":\" thích thú \", \"👌\":\" ổn \", \"👌🏻\":\" ổn \",\"💯\":\" tuyệt vời \",\n",
    "       \"✅\":\" chất lượng \", \"🤤\":\" ngon quá \", \"😳\": \" \",\"😊\":\" thích thích \",\n",
    "       \"😚\":\" mê \", \"😢\":\" buồn \", \"😉\": \" ưng \", \"🎉\":\" tuyệt \", \"👏\":\" đáng khen \", \n",
    "       \"🤬\":\" bức bội \", \"🙃\": \" kì cục \", \"💕\":\" yêu liền \", \"👏🏻\":\" đáng khen \", \n",
    "       \"🥺\": \" cảm động \",\"🙁\":\" buồn \",\"😕\":\" buồn \",\"😹\":\"cười to \",\"😻\":\" yêu quá \",\n",
    "       \"😎\":\" ngầu \",\"🙌🏻\":\" đồng tình\",\"✌🏻\":\"ổn\",\"🤨\":\" khó hiểu\", \"🤔\":\" suy nghĩ \",\n",
    "       \"😙\":\" thích thú \",\"😱\":\" bất ngờ \",\"😪\":\" buồn ngủ \",\"😝\":\" thích thú \",\":(\":\" khóc \",\n",
    "       \"⭐⭐⭐⭐⭐\":\" tuyệt hảo \", '🔸': \" \", '🤓': ' ', '📍': ' '}"
   ],
   "metadata": {
    "execution": {
     "iopub.status.busy": "2022-12-01T01:19:22.356987Z",
     "iopub.execute_input": "2022-12-01T01:19:22.357377Z",
     "iopub.status.idle": "2022-12-01T01:19:22.368314Z",
     "shell.execute_reply.started": "2022-12-01T01:19:22.357346Z",
     "shell.execute_reply": "2022-12-01T01:19:22.366884Z"
    },
    "trusted": true
   },
   "execution_count": 22,
   "outputs": []
  },
  {
   "cell_type": "code",
   "source": [],
   "metadata": {},
   "execution_count": null,
   "outputs": []
  },
  {
   "cell_type": "code",
   "source": [
    "import re\n",
    "\n",
    "def preprocess(textdata):\n",
    "    processedText = []\n",
    "    \n",
    "    # Defining regex patterns.\n",
    "    urlPattern        = r\"((http://)[^ ]*|(https://)[^ ]*|( www\\.)[^ ]*)\"\n",
    "    \n",
    "    for text in textdata:\n",
    "        check = re.search(r'([a-z])\\1+',text)\n",
    "        if check:\n",
    "          if len(check.group())>2:\n",
    "            text = re.sub(r'([a-z])\\1+', lambda m: m.group(1), text, flags=re.IGNORECASE) #remove các ký tự kéo dài như hayyy,ngonnnn...\n",
    "\n",
    "        text = text.strip() #loại dấu cách đầu câu\n",
    "        # Replace all URls with 'URL'\n",
    "        text = re.sub(urlPattern,' URL',text)\n",
    "        # Replace comma,...\n",
    "        text = re.sub(r\"[\\.,\\?]+$-\", \"\", text)\n",
    "        # Replace all emojis.\n",
    "        for emoji in emo.keys():\n",
    "            if emo[emoji] != ' ':\n",
    "                text = text.replace(emoji, \" emo \" + emo[emoji])\n",
    "            else:\n",
    "                text = text.replace(emoji,\" \")\n",
    "\n",
    "        #Replace other dấu\n",
    "        text = text.replace(\",\", \" \").replace(\".\", \" \") \\\n",
    "            .replace(\";\", \" \").replace(\"“\", \" \") \\\n",
    "            .replace(\":\", \" \").replace(\"”\", \" \") \\\n",
    "            .replace('\"', \" \").replace(\"'\", \" \") \\\n",
    "            .replace(\"!\", \" \").replace(\"?\", \" \") \\\n",
    "            .replace(\"-\", \" \").replace(\"?\", \" \").replace(\"\\n\",' ') \\\n",
    "            .replace(\"—\",' ').replace('   ', ' ').replace('  ', ' ') \\\n",
    "            .replace(')','').replace('(','')\n",
    "        \n",
    "        dict_map = {\n",
    "        \"òa\": \"oà\",\n",
    "        \"Òa\": \"Oà\",\n",
    "        \"ÒA\": \"OÀ\",\n",
    "        \"óa\": \"oá\",\n",
    "        \"Óa\": \"Oá\",\n",
    "        \"ÓA\": \"OÁ\",\n",
    "        \"ỏa\": \"oả\",\n",
    "        \"Ỏa\": \"Oả\",\n",
    "        \"ỎA\": \"OẢ\",\n",
    "        \"õa\": \"oã\",\n",
    "        \"Õa\": \"Oã\",\n",
    "        \"ÕA\": \"OÃ\",\n",
    "        \"ọa\": \"oạ\",\n",
    "        \"Ọa\": \"Oạ\",\n",
    "        \"ỌA\": \"OẠ\",\n",
    "        \"òe\": \"oè\",\n",
    "        \"Òe\": \"Oè\",\n",
    "        \"ÒE\": \"OÈ\",\n",
    "        \"óe\": \"oé\",\n",
    "        \"Óe\": \"Oé\",\n",
    "        \"ÓE\": \"OÉ\",\n",
    "        \"ỏe\": \"oẻ\",\n",
    "        \"Ỏe\": \"Oẻ\",\n",
    "        \"ỎE\": \"OẺ\",\n",
    "        \"õe\": \"oẽ\",\n",
    "        \"Õe\": \"Oẽ\",\n",
    "        \"ÕE\": \"OẼ\",\n",
    "        \"ọe\": \"oẹ\",\n",
    "        \"Ọe\": \"Oẹ\",\n",
    "        \"ỌE\": \"OẸ\",\n",
    "        \"ùy\": \"uỳ\",\n",
    "        \"Ùy\": \"Uỳ\",\n",
    "        \"ÙY\": \"UỲ\",\n",
    "        \"úy\": \"uý\",\n",
    "        \"Úy\": \"Uý\",\n",
    "        \"ÚY\": \"UÝ\",\n",
    "        \"ủy\": \"uỷ\",\n",
    "        \"Ủy\": \"Uỷ\",\n",
    "        \"ỦY\": \"UỶ\",\n",
    "        \"ũy\": \"uỹ\",\n",
    "        \"Ũy\": \"Uỹ\",\n",
    "        \"ŨY\": \"UỸ\",\n",
    "        \"ụy\": \"uỵ\",\n",
    "        \"Ụy\": \"Uỵ\",\n",
    "        \"ỤY\": \"UỴ\",\n",
    "        }\n",
    "\n",
    "        for i, j in dict_map.items():\n",
    "            text = text.replace(i, j)\n",
    "#             print(i,' ',j)\n",
    "            \n",
    "        \n",
    "        map_phrase = {\n",
    "            'ko định quay lại': 'không quay lại',\n",
    "            'ko quay lại': 'không quay lại',\n",
    "            'k bao h quay lại' : 'không quay lại',\n",
    "            'chả dám quay lại': 'không quay lại',\n",
    "            'k quay lại': 'không quay lại',\n",
    "            'k ngon': 'không ngon',\n",
    "        }\n",
    "        \n",
    "        for i, j in map_phrase.items():\n",
    "            text = text.replace(i, j)\n",
    "\n",
    "        processedText.append(text)\n",
    "\n",
    "\n",
    "    return processedText"
   ],
   "metadata": {
    "execution": {
     "iopub.status.busy": "2022-12-01T01:19:24.016855Z",
     "iopub.execute_input": "2022-12-01T01:19:24.017268Z",
     "iopub.status.idle": "2022-12-01T01:19:24.036349Z",
     "shell.execute_reply.started": "2022-12-01T01:19:24.017236Z",
     "shell.execute_reply": "2022-12-01T01:19:24.035038Z"
    },
    "trusted": true
   },
   "execution_count": 23,
   "outputs": []
  },
  {
   "cell_type": "code",
   "source": [
    "reviews = df[\"Comment\"].tolist()\n",
    "review = preprocess(reviews)\n",
    "\n",
    "df['Comment'] = review"
   ],
   "metadata": {
    "execution": {
     "iopub.status.busy": "2022-12-01T01:19:25.629885Z",
     "iopub.execute_input": "2022-12-01T01:19:25.630435Z",
     "iopub.status.idle": "2022-12-01T01:19:26.747558Z",
     "shell.execute_reply.started": "2022-12-01T01:19:25.630387Z",
     "shell.execute_reply": "2022-12-01T01:19:26.746185Z"
    },
    "trusted": true
   },
   "execution_count": 24,
   "outputs": []
  },
  {
   "cell_type": "code",
   "source": [
    "df = df[df['Comment'] != ' ']"
   ],
   "metadata": {
    "execution": {
     "iopub.status.busy": "2022-12-01T01:19:31.770209Z",
     "iopub.execute_input": "2022-12-01T01:19:31.770655Z",
     "iopub.status.idle": "2022-12-01T01:19:31.780924Z",
     "shell.execute_reply.started": "2022-12-01T01:19:31.770618Z",
     "shell.execute_reply": "2022-12-01T01:19:31.779701Z"
    },
    "trusted": true
   },
   "execution_count": 25,
   "outputs": []
  },
  {
   "cell_type": "code",
   "source": [
    "df.shape"
   ],
   "metadata": {
    "execution": {
     "iopub.status.busy": "2022-12-01T01:19:33.424303Z",
     "iopub.execute_input": "2022-12-01T01:19:33.424864Z",
     "iopub.status.idle": "2022-12-01T01:19:33.432783Z",
     "shell.execute_reply.started": "2022-12-01T01:19:33.424789Z",
     "shell.execute_reply": "2022-12-01T01:19:33.431515Z"
    },
    "trusted": true
   },
   "execution_count": 26,
   "outputs": [
    {
     "execution_count": 26,
     "output_type": "execute_result",
     "data": {
      "text/plain": "(9069, 6)"
     },
     "metadata": {}
    }
   ]
  },
  {
   "cell_type": "code",
   "source": [
    "rdrsegmenter = VnCoreNLP(\"vncorenlp/VnCoreNLP-1.1.1.jar\", annotators=\"wseg\", max_heap_size='-Xmx500m') \n",
    "\n",
    "list_text = df['Comment'].to_list()\n",
    "list_seq = []\n",
    "for i in range(len(list_text)):\n",
    "    words = rdrsegmenter.tokenize(list_text[i])[0]\n",
    "  \n",
    "    res = ''\n",
    "    for j in range(len(words)):\n",
    "        res = res + words[j] + ' '\n",
    "    \n",
    "\n",
    "    res = res.replace('___',' ').replace('   ', ' ').replace('  ', ' ').replace('\\t',' ')\n",
    "    list_seq.append(res)\n",
    "    \n",
    "df[\"Comment\"] = list_seq"
   ],
   "metadata": {
    "execution": {
     "iopub.status.busy": "2022-12-01T01:19:38.103134Z",
     "iopub.execute_input": "2022-12-01T01:19:38.103902Z",
     "iopub.status.idle": "2022-12-01T01:20:31.668810Z",
     "shell.execute_reply.started": "2022-12-01T01:19:38.103855Z",
     "shell.execute_reply": "2022-12-01T01:20:31.667389Z"
    },
    "trusted": true
   },
   "execution_count": 27,
   "outputs": []
  },
  {
   "cell_type": "code",
   "source": [
    "df"
   ],
   "metadata": {
    "scrolled": true,
    "execution": {
     "iopub.status.busy": "2022-12-01T01:20:31.671145Z",
     "iopub.execute_input": "2022-12-01T01:20:31.671510Z",
     "iopub.status.idle": "2022-12-01T01:20:31.695883Z",
     "shell.execute_reply.started": "2022-12-01T01:20:31.671473Z",
     "shell.execute_reply": "2022-12-01T01:20:31.694540Z"
    },
    "trusted": true
   },
   "execution_count": 28,
   "outputs": [
    {
     "execution_count": 28,
     "output_type": "execute_result",
     "data": {
      "text/plain": "     Unnamed: 0     RevId      UserId  \\\n0             0   3839333  10106093.0   \n1             1   2824877    786914.0   \n2             2   9816702  22467889.0   \n3             3   2684585   1889449.0   \n4             4   2737987   8839942.0   \n...         ...       ...         ...   \n9068       9066  11236510  23044142.0   \n9069       9067   1831645  10117823.0   \n9070       9068   2155495  11636069.0   \n9071       9069   7357032  12208284.0   \n9072       9070   2406407  13541782.0   \n\n                                                Comment  \\\n0     xôi dẻo đồ_ăn đậm vị hộp xôi được lót lá trông...   \n1     gọi ship 1 xuất cari gà bánh naan và 3 miếng g...   \n2     thời_tiết lạnh như này cả nhà rủ nhau đến lega...   \n3     em có đọc review thấy mng bảo trà sữa nướng đề...   \n4     đồ_ăn rất ngon nhà_hàng cũng rất đẹp tất_cả đề...   \n...                                                 ...   \n9068  thực_sự mà nói thấy mọi người đánh_giá nhiều q...   \n9069  lẩu thái tômyum đc 19 lò_đúc hbt hn theo đánh_...   \n9070  ngay từ lúc đầu_tiên bước vào nhà_hàng đã được...   \n9071  đặt ăn thử mà thấy ngón cá emo rất mê sẽ còn ủ...   \n9072  nay xem bóng_đá vn lười nấu cơm nghe các bạn g...   \n\n                                             image_urls  Rating  \n0     ['https://images.foody.vn/res/g97/966781/s800/...     1.0  \n1     ['https://images.foody.vn/res/g69/688413/s800/...     0.0  \n2     ['https://images.foody.vn/res/g72/715078/s800/...     1.0  \n3     ['https://images.foody.vn/res/g90/895545/s800/...     0.0  \n4     ['https://images.foody.vn/res/g4/30186/s800/fo...     1.0  \n...                                                 ...     ...  \n9068  ['https://images.foody.vn/res/g94/930433/s800/...     1.0  \n9069  ['https://images.foody.vn/res/g16/150633/s800/...     1.0  \n9070  ['https://images.foody.vn/res/g74/736118/s800/...     1.0  \n9071  ['https://images.foody.vn/res/g104/1036659/s80...     1.0  \n9072  ['https://images.foody.vn/res/g75/745511/s800/...     1.0  \n\n[9069 rows x 6 columns]",
      "text/html": "<div>\n<style scoped>\n    .dataframe tbody tr th:only-of-type {\n        vertical-align: middle;\n    }\n\n    .dataframe tbody tr th {\n        vertical-align: top;\n    }\n\n    .dataframe thead th {\n        text-align: right;\n    }\n</style>\n<table border=\"1\" class=\"dataframe\">\n  <thead>\n    <tr style=\"text-align: right;\">\n      <th></th>\n      <th>Unnamed: 0</th>\n      <th>RevId</th>\n      <th>UserId</th>\n      <th>Comment</th>\n      <th>image_urls</th>\n      <th>Rating</th>\n    </tr>\n  </thead>\n  <tbody>\n    <tr>\n      <th>0</th>\n      <td>0</td>\n      <td>3839333</td>\n      <td>10106093.0</td>\n      <td>xôi dẻo đồ_ăn đậm vị hộp xôi được lót lá trông...</td>\n      <td>['https://images.foody.vn/res/g97/966781/s800/...</td>\n      <td>1.0</td>\n    </tr>\n    <tr>\n      <th>1</th>\n      <td>1</td>\n      <td>2824877</td>\n      <td>786914.0</td>\n      <td>gọi ship 1 xuất cari gà bánh naan và 3 miếng g...</td>\n      <td>['https://images.foody.vn/res/g69/688413/s800/...</td>\n      <td>0.0</td>\n    </tr>\n    <tr>\n      <th>2</th>\n      <td>2</td>\n      <td>9816702</td>\n      <td>22467889.0</td>\n      <td>thời_tiết lạnh như này cả nhà rủ nhau đến lega...</td>\n      <td>['https://images.foody.vn/res/g72/715078/s800/...</td>\n      <td>1.0</td>\n    </tr>\n    <tr>\n      <th>3</th>\n      <td>3</td>\n      <td>2684585</td>\n      <td>1889449.0</td>\n      <td>em có đọc review thấy mng bảo trà sữa nướng đề...</td>\n      <td>['https://images.foody.vn/res/g90/895545/s800/...</td>\n      <td>0.0</td>\n    </tr>\n    <tr>\n      <th>4</th>\n      <td>4</td>\n      <td>2737987</td>\n      <td>8839942.0</td>\n      <td>đồ_ăn rất ngon nhà_hàng cũng rất đẹp tất_cả đề...</td>\n      <td>['https://images.foody.vn/res/g4/30186/s800/fo...</td>\n      <td>1.0</td>\n    </tr>\n    <tr>\n      <th>...</th>\n      <td>...</td>\n      <td>...</td>\n      <td>...</td>\n      <td>...</td>\n      <td>...</td>\n      <td>...</td>\n    </tr>\n    <tr>\n      <th>9068</th>\n      <td>9066</td>\n      <td>11236510</td>\n      <td>23044142.0</td>\n      <td>thực_sự mà nói thấy mọi người đánh_giá nhiều q...</td>\n      <td>['https://images.foody.vn/res/g94/930433/s800/...</td>\n      <td>1.0</td>\n    </tr>\n    <tr>\n      <th>9069</th>\n      <td>9067</td>\n      <td>1831645</td>\n      <td>10117823.0</td>\n      <td>lẩu thái tômyum đc 19 lò_đúc hbt hn theo đánh_...</td>\n      <td>['https://images.foody.vn/res/g16/150633/s800/...</td>\n      <td>1.0</td>\n    </tr>\n    <tr>\n      <th>9070</th>\n      <td>9068</td>\n      <td>2155495</td>\n      <td>11636069.0</td>\n      <td>ngay từ lúc đầu_tiên bước vào nhà_hàng đã được...</td>\n      <td>['https://images.foody.vn/res/g74/736118/s800/...</td>\n      <td>1.0</td>\n    </tr>\n    <tr>\n      <th>9071</th>\n      <td>9069</td>\n      <td>7357032</td>\n      <td>12208284.0</td>\n      <td>đặt ăn thử mà thấy ngón cá emo rất mê sẽ còn ủ...</td>\n      <td>['https://images.foody.vn/res/g104/1036659/s80...</td>\n      <td>1.0</td>\n    </tr>\n    <tr>\n      <th>9072</th>\n      <td>9070</td>\n      <td>2406407</td>\n      <td>13541782.0</td>\n      <td>nay xem bóng_đá vn lười nấu cơm nghe các bạn g...</td>\n      <td>['https://images.foody.vn/res/g75/745511/s800/...</td>\n      <td>1.0</td>\n    </tr>\n  </tbody>\n</table>\n<p>9069 rows × 6 columns</p>\n</div>"
     },
     "metadata": {}
    }
   ]
  },
  {
   "cell_type": "code",
   "source": [
    "df[df['Rating'].isnull()]"
   ],
   "metadata": {
    "execution": {
     "iopub.status.busy": "2022-12-01T01:20:31.697109Z",
     "iopub.execute_input": "2022-12-01T01:20:31.697431Z",
     "iopub.status.idle": "2022-12-01T01:20:31.718325Z",
     "shell.execute_reply.started": "2022-12-01T01:20:31.697402Z",
     "shell.execute_reply": "2022-12-01T01:20:31.717081Z"
    },
    "trusted": true
   },
   "execution_count": 29,
   "outputs": [
    {
     "execution_count": 29,
     "output_type": "execute_result",
     "data": {
      "text/plain": "     Unnamed: 0    RevId     UserId  \\\n1392       1392  1446246  8728639.0   \n\n                                                Comment image_urls  Rating  \n1392  quán đẹp đẹp nhất trong những dingtea mình từn...        NaN     NaN  ",
      "text/html": "<div>\n<style scoped>\n    .dataframe tbody tr th:only-of-type {\n        vertical-align: middle;\n    }\n\n    .dataframe tbody tr th {\n        vertical-align: top;\n    }\n\n    .dataframe thead th {\n        text-align: right;\n    }\n</style>\n<table border=\"1\" class=\"dataframe\">\n  <thead>\n    <tr style=\"text-align: right;\">\n      <th></th>\n      <th>Unnamed: 0</th>\n      <th>RevId</th>\n      <th>UserId</th>\n      <th>Comment</th>\n      <th>image_urls</th>\n      <th>Rating</th>\n    </tr>\n  </thead>\n  <tbody>\n    <tr>\n      <th>1392</th>\n      <td>1392</td>\n      <td>1446246</td>\n      <td>8728639.0</td>\n      <td>quán đẹp đẹp nhất trong những dingtea mình từn...</td>\n      <td>NaN</td>\n      <td>NaN</td>\n    </tr>\n  </tbody>\n</table>\n</div>"
     },
     "metadata": {}
    }
   ]
  },
  {
   "cell_type": "code",
   "source": [
    "## => positive\n",
    "\n",
    "df['Rating'] = df['Rating'].fillna(1)"
   ],
   "metadata": {
    "execution": {
     "iopub.status.busy": "2022-12-01T01:21:00.005246Z",
     "iopub.execute_input": "2022-12-01T01:21:00.005656Z",
     "iopub.status.idle": "2022-12-01T01:21:00.013095Z",
     "shell.execute_reply.started": "2022-12-01T01:21:00.005623Z",
     "shell.execute_reply": "2022-12-01T01:21:00.011603Z"
    },
    "trusted": true
   },
   "execution_count": 30,
   "outputs": []
  },
  {
   "cell_type": "code",
   "source": [
    "df['Rating'].value_counts(dropna = False)"
   ],
   "metadata": {
    "execution": {
     "iopub.status.busy": "2022-12-01T01:21:01.072963Z",
     "iopub.execute_input": "2022-12-01T01:21:01.073373Z",
     "iopub.status.idle": "2022-12-01T01:21:01.083168Z",
     "shell.execute_reply.started": "2022-12-01T01:21:01.073341Z",
     "shell.execute_reply": "2022-12-01T01:21:01.081895Z"
    },
    "trusted": true
   },
   "execution_count": 31,
   "outputs": [
    {
     "execution_count": 31,
     "output_type": "execute_result",
     "data": {
      "text/plain": "1.0    7150\n0.0    1919\nName: Rating, dtype: int64"
     },
     "metadata": {}
    }
   ]
  },
  {
   "cell_type": "code",
   "source": [
    "df.shape"
   ],
   "metadata": {
    "execution": {
     "iopub.status.busy": "2022-12-01T01:21:03.439162Z",
     "iopub.execute_input": "2022-12-01T01:21:03.440467Z",
     "iopub.status.idle": "2022-12-01T01:21:03.448378Z",
     "shell.execute_reply.started": "2022-12-01T01:21:03.440411Z",
     "shell.execute_reply": "2022-12-01T01:21:03.447136Z"
    },
    "trusted": true
   },
   "execution_count": 32,
   "outputs": [
    {
     "execution_count": 32,
     "output_type": "execute_result",
     "data": {
      "text/plain": "(9069, 6)"
     },
     "metadata": {}
    }
   ]
  },
  {
   "cell_type": "code",
   "source": [
    "list_len = []\n",
    "list_text = df['Comment'].to_list()\n",
    "\n",
    "for i in list_text:\n",
    "    list_len.append(len(i.split()))\n",
    "\n",
    "df['len'] = list_len"
   ],
   "metadata": {
    "execution": {
     "iopub.status.busy": "2022-12-01T01:21:08.341081Z",
     "iopub.execute_input": "2022-12-01T01:21:08.341468Z",
     "iopub.status.idle": "2022-12-01T01:21:08.422165Z",
     "shell.execute_reply.started": "2022-12-01T01:21:08.341435Z",
     "shell.execute_reply": "2022-12-01T01:21:08.420949Z"
    },
    "trusted": true
   },
   "execution_count": 33,
   "outputs": []
  },
  {
   "cell_type": "code",
   "source": [
    "df['len'].describe([0.1 * i for i in range(1, 10)])"
   ],
   "metadata": {
    "execution": {
     "iopub.status.busy": "2022-12-01T01:21:11.006696Z",
     "iopub.execute_input": "2022-12-01T01:21:11.007139Z",
     "iopub.status.idle": "2022-12-01T01:21:11.025362Z",
     "shell.execute_reply.started": "2022-12-01T01:21:11.007101Z",
     "shell.execute_reply": "2022-12-01T01:21:11.023876Z"
    },
    "trusted": true
   },
   "execution_count": 34,
   "outputs": [
    {
     "execution_count": 34,
     "output_type": "execute_result",
     "data": {
      "text/plain": "count    9069.000000\nmean       77.950160\nstd        69.316249\nmin         1.000000\n10%        15.000000\n20%        24.000000\n30%        34.000000\n40%        46.000000\n50%        60.000000\n60%        78.000000\n70%        96.000000\n80%       116.000000\n90%       162.000000\nmax       718.000000\nName: len, dtype: float64"
     },
     "metadata": {}
    }
   ]
  },
  {
   "cell_type": "code",
   "source": [
    "len(df[df['len'] >= 256]['Comment'].to_list())"
   ],
   "metadata": {
    "execution": {
     "iopub.status.busy": "2022-12-01T01:21:15.766899Z",
     "iopub.execute_input": "2022-12-01T01:21:15.767323Z",
     "iopub.status.idle": "2022-12-01T01:21:15.777475Z",
     "shell.execute_reply.started": "2022-12-01T01:21:15.767290Z",
     "shell.execute_reply": "2022-12-01T01:21:15.776343Z"
    },
    "trusted": true
   },
   "execution_count": 35,
   "outputs": [
    {
     "execution_count": 35,
     "output_type": "execute_result",
     "data": {
      "text/plain": "240"
     },
     "metadata": {}
    }
   ]
  },
  {
   "cell_type": "code",
   "source": [
    "df[['len',\"Comment\",\"Rating\"]].to_csv(\"duy_hihi_train.csv\", encoding = 'utf-8-sig')"
   ],
   "metadata": {
    "execution": {
     "iopub.status.busy": "2022-12-01T01:21:45.833761Z",
     "iopub.execute_input": "2022-12-01T01:21:45.834217Z",
     "iopub.status.idle": "2022-12-01T01:21:45.979194Z",
     "shell.execute_reply.started": "2022-12-01T01:21:45.834183Z",
     "shell.execute_reply": "2022-12-01T01:21:45.978001Z"
    },
    "trusted": true
   },
   "execution_count": 37,
   "outputs": []
  },
  {
   "cell_type": "code",
   "source": [
    "# df_test = pd.read_csv('Dataset/test.csv')\n",
    "df_test = pd.read_csv('/kaggle/input/int3405-sentiment-analysis-problem/test.csv')"
   ],
   "metadata": {
    "execution": {
     "iopub.status.busy": "2022-12-01T01:21:47.847218Z",
     "iopub.execute_input": "2022-12-01T01:21:47.847640Z",
     "iopub.status.idle": "2022-12-01T01:21:48.010354Z",
     "shell.execute_reply.started": "2022-12-01T01:21:47.847604Z",
     "shell.execute_reply": "2022-12-01T01:21:48.008948Z"
    },
    "trusted": true
   },
   "execution_count": 38,
   "outputs": []
  },
  {
   "cell_type": "code",
   "source": [
    "df_test['Comment'] = df_test['Comment'].fillna(\"None\")"
   ],
   "metadata": {
    "scrolled": true,
    "execution": {
     "iopub.status.busy": "2022-12-01T01:21:49.658289Z",
     "iopub.execute_input": "2022-12-01T01:21:49.659394Z",
     "iopub.status.idle": "2022-12-01T01:21:49.667750Z",
     "shell.execute_reply.started": "2022-12-01T01:21:49.659341Z",
     "shell.execute_reply": "2022-12-01T01:21:49.666524Z"
    },
    "trusted": true
   },
   "execution_count": 39,
   "outputs": []
  },
  {
   "cell_type": "code",
   "source": [
    "df_test['Comment'] = df_test['Comment'].str.lower()"
   ],
   "metadata": {
    "execution": {
     "iopub.status.busy": "2022-12-01T01:21:51.295018Z",
     "iopub.execute_input": "2022-12-01T01:21:51.295436Z",
     "iopub.status.idle": "2022-12-01T01:21:51.315624Z",
     "shell.execute_reply.started": "2022-12-01T01:21:51.295402Z",
     "shell.execute_reply": "2022-12-01T01:21:51.314837Z"
    },
    "trusted": true
   },
   "execution_count": 40,
   "outputs": []
  },
  {
   "cell_type": "code",
   "source": [
    "cmts = df_test[\"Comment\"].tolist()\n",
    "cmts = preprocess(cmts)\n",
    "\n",
    "df_test['Comment'] = cmts"
   ],
   "metadata": {
    "execution": {
     "iopub.status.busy": "2022-12-01T01:21:54.747319Z",
     "iopub.execute_input": "2022-12-01T01:21:54.747780Z",
     "iopub.status.idle": "2022-12-01T01:21:55.386404Z",
     "shell.execute_reply.started": "2022-12-01T01:21:54.747729Z",
     "shell.execute_reply": "2022-12-01T01:21:55.385177Z"
    },
    "trusted": true
   },
   "execution_count": 41,
   "outputs": []
  },
  {
   "cell_type": "code",
   "source": [
    "rdrsegmenter = VnCoreNLP(\"vncorenlp/VnCoreNLP-1.1.1.jar\", annotators=\"wseg\", max_heap_size='-Xmx500m') \n",
    "\n",
    "list_text = df_test['Comment'].to_list()\n",
    "list_seq = []\n",
    "for i in range(len(list_text)):\n",
    "    words = rdrsegmenter.tokenize(list_text[i])[0]\n",
    "  \n",
    "    res = ''\n",
    "    for j in range(len(words)):\n",
    "        res = res + words[j] + ' '\n",
    "    \n",
    "\n",
    "    res = res.replace('___',' ').replace('   ', ' ').replace('  ', ' ').replace('\\t',' ')\n",
    "    list_seq.append(res)\n",
    "    \n",
    "df_test[\"Comment\"] = list_seq"
   ],
   "metadata": {
    "execution": {
     "iopub.status.busy": "2022-12-01T01:21:58.522626Z",
     "iopub.execute_input": "2022-12-01T01:21:58.523067Z",
     "iopub.status.idle": "2022-12-01T01:22:32.645068Z",
     "shell.execute_reply.started": "2022-12-01T01:21:58.523030Z",
     "shell.execute_reply": "2022-12-01T01:22:32.643819Z"
    },
    "trusted": true
   },
   "execution_count": 42,
   "outputs": []
  },
  {
   "cell_type": "code",
   "source": [],
   "metadata": {},
   "execution_count": null,
   "outputs": []
  },
  {
   "cell_type": "code",
   "source": [
    "list_len = []\n",
    "list_text = df_test['Comment'].to_list()\n",
    "\n",
    "for i in list_text:\n",
    "    list_len.append(len(i.split()))\n",
    "\n",
    "df_test['len'] = list_len"
   ],
   "metadata": {
    "execution": {
     "iopub.status.busy": "2022-12-01T01:22:32.647356Z",
     "iopub.execute_input": "2022-12-01T01:22:32.647759Z",
     "iopub.status.idle": "2022-12-01T01:22:32.701479Z",
     "shell.execute_reply.started": "2022-12-01T01:22:32.647718Z",
     "shell.execute_reply": "2022-12-01T01:22:32.699985Z"
    },
    "trusted": true
   },
   "execution_count": 43,
   "outputs": []
  },
  {
   "cell_type": "code",
   "source": [
    "df_test"
   ],
   "metadata": {
    "execution": {
     "iopub.status.busy": "2022-12-01T01:22:32.702859Z",
     "iopub.execute_input": "2022-12-01T01:22:32.703207Z",
     "iopub.status.idle": "2022-12-01T01:22:32.721801Z",
     "shell.execute_reply.started": "2022-12-01T01:22:32.703176Z",
     "shell.execute_reply": "2022-12-01T01:22:32.720535Z"
    },
    "trusted": true
   },
   "execution_count": 44,
   "outputs": [
    {
     "execution_count": 44,
     "output_type": "execute_result",
     "data": {
      "text/plain": "      Unnamed: 0    RevId    UserId  \\\n0              0   781115   1326532   \n1              1  1219481    422306   \n2              2  1703765   9779143   \n3              3  4870346  12924388   \n4              4  2638711   1134279   \n...          ...      ...       ...   \n5098        5098  1025826    132889   \n5099        5099  1278470   1691594   \n5100        5100  2565212   9989615   \n5101        5101  3766155  17686862   \n5102        5102  1070891   1141468   \n\n                                                Comment  \\\n0     trà táo 35k cookie socola 38k nước ở đây bình_...   \n1     hôm rồi trung_tâm mình tổ_chức noel party ở đâ...   \n2     thịt gà của quán là nhất đấy đi ăn gọi liền 4 ...   \n3     hai đứa ăn xong đau bụng cả ngày chân gà ok nh...   \n4     mình vừa thử trưa nay điểm cộng đầu_tiên là bá...   \n...                                                 ...   \n5098  bún riêu ở đây ngon mà lúc_nào cũng đông thế_m...   \n5099  quán ngồi thoải_mái và cưc thích ❤ menu đa_dạn...   \n5100  quá thất_vọng chất_lượng sản_phẩm ngày_càng đi...   \n5101  giao hàng nhanh miếng băm chả đều ngon ko bị c...   \n5102  nhìn ở bên ngoài trông quán khá bé nhưng vào t...   \n\n                                             image_urls  len  \n0     ['https://images.foody.vn/res/g8/73091/s800/fo...   61  \n1     ['https://images.foody.vn/res/g1/33/s800/foody...  166  \n2     ['https://images.foody.vn/res/g66/659655/s800/...  137  \n3     ['https://images.foody.vn/res/g78/772244/s800/...   15  \n4     ['https://images.foody.vn/res/g74/737874/s800/...   58  \n...                                                 ...  ...  \n5098  ['https://images.foody.vn/res/g10/92649/s800/f...   62  \n5099  ['https://images.foody.vn/res/g25/247296/s800/...   45  \n5100  ['https://images.foody.vn/res/g89/888154/s800/...   53  \n5101  ['https://images.foody.vn/res/g13/128194/s800/...   15  \n5102  ['https://images.foody.vn/res/g29/280391/s800/...  164  \n\n[5103 rows x 6 columns]",
      "text/html": "<div>\n<style scoped>\n    .dataframe tbody tr th:only-of-type {\n        vertical-align: middle;\n    }\n\n    .dataframe tbody tr th {\n        vertical-align: top;\n    }\n\n    .dataframe thead th {\n        text-align: right;\n    }\n</style>\n<table border=\"1\" class=\"dataframe\">\n  <thead>\n    <tr style=\"text-align: right;\">\n      <th></th>\n      <th>Unnamed: 0</th>\n      <th>RevId</th>\n      <th>UserId</th>\n      <th>Comment</th>\n      <th>image_urls</th>\n      <th>len</th>\n    </tr>\n  </thead>\n  <tbody>\n    <tr>\n      <th>0</th>\n      <td>0</td>\n      <td>781115</td>\n      <td>1326532</td>\n      <td>trà táo 35k cookie socola 38k nước ở đây bình_...</td>\n      <td>['https://images.foody.vn/res/g8/73091/s800/fo...</td>\n      <td>61</td>\n    </tr>\n    <tr>\n      <th>1</th>\n      <td>1</td>\n      <td>1219481</td>\n      <td>422306</td>\n      <td>hôm rồi trung_tâm mình tổ_chức noel party ở đâ...</td>\n      <td>['https://images.foody.vn/res/g1/33/s800/foody...</td>\n      <td>166</td>\n    </tr>\n    <tr>\n      <th>2</th>\n      <td>2</td>\n      <td>1703765</td>\n      <td>9779143</td>\n      <td>thịt gà của quán là nhất đấy đi ăn gọi liền 4 ...</td>\n      <td>['https://images.foody.vn/res/g66/659655/s800/...</td>\n      <td>137</td>\n    </tr>\n    <tr>\n      <th>3</th>\n      <td>3</td>\n      <td>4870346</td>\n      <td>12924388</td>\n      <td>hai đứa ăn xong đau bụng cả ngày chân gà ok nh...</td>\n      <td>['https://images.foody.vn/res/g78/772244/s800/...</td>\n      <td>15</td>\n    </tr>\n    <tr>\n      <th>4</th>\n      <td>4</td>\n      <td>2638711</td>\n      <td>1134279</td>\n      <td>mình vừa thử trưa nay điểm cộng đầu_tiên là bá...</td>\n      <td>['https://images.foody.vn/res/g74/737874/s800/...</td>\n      <td>58</td>\n    </tr>\n    <tr>\n      <th>...</th>\n      <td>...</td>\n      <td>...</td>\n      <td>...</td>\n      <td>...</td>\n      <td>...</td>\n      <td>...</td>\n    </tr>\n    <tr>\n      <th>5098</th>\n      <td>5098</td>\n      <td>1025826</td>\n      <td>132889</td>\n      <td>bún riêu ở đây ngon mà lúc_nào cũng đông thế_m...</td>\n      <td>['https://images.foody.vn/res/g10/92649/s800/f...</td>\n      <td>62</td>\n    </tr>\n    <tr>\n      <th>5099</th>\n      <td>5099</td>\n      <td>1278470</td>\n      <td>1691594</td>\n      <td>quán ngồi thoải_mái và cưc thích ❤ menu đa_dạn...</td>\n      <td>['https://images.foody.vn/res/g25/247296/s800/...</td>\n      <td>45</td>\n    </tr>\n    <tr>\n      <th>5100</th>\n      <td>5100</td>\n      <td>2565212</td>\n      <td>9989615</td>\n      <td>quá thất_vọng chất_lượng sản_phẩm ngày_càng đi...</td>\n      <td>['https://images.foody.vn/res/g89/888154/s800/...</td>\n      <td>53</td>\n    </tr>\n    <tr>\n      <th>5101</th>\n      <td>5101</td>\n      <td>3766155</td>\n      <td>17686862</td>\n      <td>giao hàng nhanh miếng băm chả đều ngon ko bị c...</td>\n      <td>['https://images.foody.vn/res/g13/128194/s800/...</td>\n      <td>15</td>\n    </tr>\n    <tr>\n      <th>5102</th>\n      <td>5102</td>\n      <td>1070891</td>\n      <td>1141468</td>\n      <td>nhìn ở bên ngoài trông quán khá bé nhưng vào t...</td>\n      <td>['https://images.foody.vn/res/g29/280391/s800/...</td>\n      <td>164</td>\n    </tr>\n  </tbody>\n</table>\n<p>5103 rows × 6 columns</p>\n</div>"
     },
     "metadata": {}
    }
   ]
  },
  {
   "cell_type": "code",
   "source": [
    "df_test['len'].describe([0.1*i for i in range(1,10)])"
   ],
   "metadata": {
    "execution": {
     "iopub.status.busy": "2022-12-01T01:23:00.835338Z",
     "iopub.execute_input": "2022-12-01T01:23:00.836434Z",
     "iopub.status.idle": "2022-12-01T01:23:00.850005Z",
     "shell.execute_reply.started": "2022-12-01T01:23:00.836392Z",
     "shell.execute_reply": "2022-12-01T01:23:00.848805Z"
    },
    "trusted": true
   },
   "execution_count": 45,
   "outputs": [
    {
     "execution_count": 45,
     "output_type": "execute_result",
     "data": {
      "text/plain": "count    5103.000000\nmean       78.856359\nstd        70.427195\nmin         1.000000\n10%        15.000000\n20%        25.000000\n30%        35.000000\n40%        46.000000\n50%        60.000000\n60%        79.000000\n70%        97.000000\n80%       118.000000\n90%       161.000000\nmax       863.000000\nName: len, dtype: float64"
     },
     "metadata": {}
    }
   ]
  },
  {
   "cell_type": "code",
   "source": [
    "df_test[df_test['len']>=256].shape"
   ],
   "metadata": {
    "execution": {
     "iopub.status.busy": "2022-12-01T01:23:40.110773Z",
     "iopub.execute_input": "2022-12-01T01:23:40.111196Z",
     "iopub.status.idle": "2022-12-01T01:23:40.120662Z",
     "shell.execute_reply.started": "2022-12-01T01:23:40.111160Z",
     "shell.execute_reply": "2022-12-01T01:23:40.119167Z"
    },
    "trusted": true
   },
   "execution_count": 47,
   "outputs": [
    {
     "execution_count": 47,
     "output_type": "execute_result",
     "data": {
      "text/plain": "(138, 6)"
     },
     "metadata": {}
    }
   ]
  },
  {
   "cell_type": "code",
   "source": [
    "df_test"
   ],
   "metadata": {
    "execution": {
     "iopub.status.busy": "2022-12-01T01:23:51.704135Z",
     "iopub.execute_input": "2022-12-01T01:23:51.704531Z",
     "iopub.status.idle": "2022-12-01T01:23:51.723665Z",
     "shell.execute_reply.started": "2022-12-01T01:23:51.704500Z",
     "shell.execute_reply": "2022-12-01T01:23:51.722859Z"
    },
    "trusted": true
   },
   "execution_count": 48,
   "outputs": [
    {
     "execution_count": 48,
     "output_type": "execute_result",
     "data": {
      "text/plain": "      Unnamed: 0    RevId    UserId  \\\n0              0   781115   1326532   \n1              1  1219481    422306   \n2              2  1703765   9779143   \n3              3  4870346  12924388   \n4              4  2638711   1134279   \n...          ...      ...       ...   \n5098        5098  1025826    132889   \n5099        5099  1278470   1691594   \n5100        5100  2565212   9989615   \n5101        5101  3766155  17686862   \n5102        5102  1070891   1141468   \n\n                                                Comment  \\\n0     trà táo 35k cookie socola 38k nước ở đây bình_...   \n1     hôm rồi trung_tâm mình tổ_chức noel party ở đâ...   \n2     thịt gà của quán là nhất đấy đi ăn gọi liền 4 ...   \n3     hai đứa ăn xong đau bụng cả ngày chân gà ok nh...   \n4     mình vừa thử trưa nay điểm cộng đầu_tiên là bá...   \n...                                                 ...   \n5098  bún riêu ở đây ngon mà lúc_nào cũng đông thế_m...   \n5099  quán ngồi thoải_mái và cưc thích ❤ menu đa_dạn...   \n5100  quá thất_vọng chất_lượng sản_phẩm ngày_càng đi...   \n5101  giao hàng nhanh miếng băm chả đều ngon ko bị c...   \n5102  nhìn ở bên ngoài trông quán khá bé nhưng vào t...   \n\n                                             image_urls  len  \n0     ['https://images.foody.vn/res/g8/73091/s800/fo...   61  \n1     ['https://images.foody.vn/res/g1/33/s800/foody...  166  \n2     ['https://images.foody.vn/res/g66/659655/s800/...  137  \n3     ['https://images.foody.vn/res/g78/772244/s800/...   15  \n4     ['https://images.foody.vn/res/g74/737874/s800/...   58  \n...                                                 ...  ...  \n5098  ['https://images.foody.vn/res/g10/92649/s800/f...   62  \n5099  ['https://images.foody.vn/res/g25/247296/s800/...   45  \n5100  ['https://images.foody.vn/res/g89/888154/s800/...   53  \n5101  ['https://images.foody.vn/res/g13/128194/s800/...   15  \n5102  ['https://images.foody.vn/res/g29/280391/s800/...  164  \n\n[5103 rows x 6 columns]",
      "text/html": "<div>\n<style scoped>\n    .dataframe tbody tr th:only-of-type {\n        vertical-align: middle;\n    }\n\n    .dataframe tbody tr th {\n        vertical-align: top;\n    }\n\n    .dataframe thead th {\n        text-align: right;\n    }\n</style>\n<table border=\"1\" class=\"dataframe\">\n  <thead>\n    <tr style=\"text-align: right;\">\n      <th></th>\n      <th>Unnamed: 0</th>\n      <th>RevId</th>\n      <th>UserId</th>\n      <th>Comment</th>\n      <th>image_urls</th>\n      <th>len</th>\n    </tr>\n  </thead>\n  <tbody>\n    <tr>\n      <th>0</th>\n      <td>0</td>\n      <td>781115</td>\n      <td>1326532</td>\n      <td>trà táo 35k cookie socola 38k nước ở đây bình_...</td>\n      <td>['https://images.foody.vn/res/g8/73091/s800/fo...</td>\n      <td>61</td>\n    </tr>\n    <tr>\n      <th>1</th>\n      <td>1</td>\n      <td>1219481</td>\n      <td>422306</td>\n      <td>hôm rồi trung_tâm mình tổ_chức noel party ở đâ...</td>\n      <td>['https://images.foody.vn/res/g1/33/s800/foody...</td>\n      <td>166</td>\n    </tr>\n    <tr>\n      <th>2</th>\n      <td>2</td>\n      <td>1703765</td>\n      <td>9779143</td>\n      <td>thịt gà của quán là nhất đấy đi ăn gọi liền 4 ...</td>\n      <td>['https://images.foody.vn/res/g66/659655/s800/...</td>\n      <td>137</td>\n    </tr>\n    <tr>\n      <th>3</th>\n      <td>3</td>\n      <td>4870346</td>\n      <td>12924388</td>\n      <td>hai đứa ăn xong đau bụng cả ngày chân gà ok nh...</td>\n      <td>['https://images.foody.vn/res/g78/772244/s800/...</td>\n      <td>15</td>\n    </tr>\n    <tr>\n      <th>4</th>\n      <td>4</td>\n      <td>2638711</td>\n      <td>1134279</td>\n      <td>mình vừa thử trưa nay điểm cộng đầu_tiên là bá...</td>\n      <td>['https://images.foody.vn/res/g74/737874/s800/...</td>\n      <td>58</td>\n    </tr>\n    <tr>\n      <th>...</th>\n      <td>...</td>\n      <td>...</td>\n      <td>...</td>\n      <td>...</td>\n      <td>...</td>\n      <td>...</td>\n    </tr>\n    <tr>\n      <th>5098</th>\n      <td>5098</td>\n      <td>1025826</td>\n      <td>132889</td>\n      <td>bún riêu ở đây ngon mà lúc_nào cũng đông thế_m...</td>\n      <td>['https://images.foody.vn/res/g10/92649/s800/f...</td>\n      <td>62</td>\n    </tr>\n    <tr>\n      <th>5099</th>\n      <td>5099</td>\n      <td>1278470</td>\n      <td>1691594</td>\n      <td>quán ngồi thoải_mái và cưc thích ❤ menu đa_dạn...</td>\n      <td>['https://images.foody.vn/res/g25/247296/s800/...</td>\n      <td>45</td>\n    </tr>\n    <tr>\n      <th>5100</th>\n      <td>5100</td>\n      <td>2565212</td>\n      <td>9989615</td>\n      <td>quá thất_vọng chất_lượng sản_phẩm ngày_càng đi...</td>\n      <td>['https://images.foody.vn/res/g89/888154/s800/...</td>\n      <td>53</td>\n    </tr>\n    <tr>\n      <th>5101</th>\n      <td>5101</td>\n      <td>3766155</td>\n      <td>17686862</td>\n      <td>giao hàng nhanh miếng băm chả đều ngon ko bị c...</td>\n      <td>['https://images.foody.vn/res/g13/128194/s800/...</td>\n      <td>15</td>\n    </tr>\n    <tr>\n      <th>5102</th>\n      <td>5102</td>\n      <td>1070891</td>\n      <td>1141468</td>\n      <td>nhìn ở bên ngoài trông quán khá bé nhưng vào t...</td>\n      <td>['https://images.foody.vn/res/g29/280391/s800/...</td>\n      <td>164</td>\n    </tr>\n  </tbody>\n</table>\n<p>5103 rows × 6 columns</p>\n</div>"
     },
     "metadata": {}
    }
   ]
  },
  {
   "cell_type": "code",
   "source": [
    "df_test[['RevId','Comment','len']].to_csv('duy_hihi_test.csv', encoding = 'utf-8-sig')"
   ],
   "metadata": {
    "execution": {
     "iopub.status.busy": "2022-12-01T01:24:13.206226Z",
     "iopub.execute_input": "2022-12-01T01:24:13.206681Z",
     "iopub.status.idle": "2022-12-01T01:24:13.293222Z",
     "shell.execute_reply.started": "2022-12-01T01:24:13.206644Z",
     "shell.execute_reply": "2022-12-01T01:24:13.292015Z"
    },
    "trusted": true
   },
   "execution_count": 49,
   "outputs": []
  }
 ]
}
